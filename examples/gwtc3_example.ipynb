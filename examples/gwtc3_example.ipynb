{
 "cells": [
  {
   "cell_type": "code",
   "execution_count": 1,
   "metadata": {},
   "outputs": [
    {
     "name": "stderr",
     "output_type": "stream",
     "text": [
      "/home/ethan.payne/.conda/envs/ve310/lib/python3.10/site-packages/tqdm/auto.py:21: TqdmWarning: IProgress not found. Please update jupyter and ipywidgets. See https://ipywidgets.readthedocs.io/en/stable/user_install.html\n",
      "  from .autonotebook import tqdm as notebook_tqdm\n"
     ]
    }
   ],
   "source": [
    "import pystroke\n",
    "import jax.numpy as jnp\n",
    "import numpyro.distributions as dist\n",
    "import matplotlib.pyplot as plt\n",
    "import numpy as np\n",
    "\n",
    "%matplotlib inline"
   ]
  },
  {
   "cell_type": "code",
   "execution_count": 2,
   "metadata": {
    "collapsed": true,
    "jupyter": {
     "outputs_hidden": true
    },
    "tags": []
   },
   "outputs": [
    {
     "name": "stderr",
     "output_type": "stream",
     "text": [
      "11:15 bilby INFO    : Loading posteriors...\n",
      "11:15 bilby INFO    : Loaded Overall from /home/ethan.payne/projects/evidencemaximizedprior/observing_run_PE/O1O2/GW151012_GWTC-1.hdf5.\n",
      "11:15 bilby INFO    : Loaded Overall from /home/ethan.payne/projects/evidencemaximizedprior/observing_run_PE/O1O2/GW170823_GWTC-1.hdf5.\n",
      "11:15 bilby INFO    : Loaded Overall from /home/ethan.payne/projects/evidencemaximizedprior/observing_run_PE/O1O2/GW151226_GWTC-1.hdf5.\n",
      "11:15 bilby INFO    : Loaded Overall from /home/ethan.payne/projects/evidencemaximizedprior/observing_run_PE/O1O2/GW150914_GWTC-1.hdf5.\n",
      "11:15 bilby INFO    : Loaded Overall from /home/ethan.payne/projects/evidencemaximizedprior/observing_run_PE/O1O2/GW170104_GWTC-1.hdf5.\n",
      "11:15 bilby INFO    : Loaded Overall from /home/ethan.payne/projects/evidencemaximizedprior/observing_run_PE/O1O2/GW170818_GWTC-1.hdf5.\n",
      "11:15 bilby INFO    : Loaded Overall from /home/ethan.payne/projects/evidencemaximizedprior/observing_run_PE/O1O2/GW170729_GWTC-1.hdf5.\n",
      "11:15 bilby INFO    : Loaded Overall from /home/ethan.payne/projects/evidencemaximizedprior/observing_run_PE/O1O2/GW170814_GWTC-1.hdf5.\n",
      "11:15 bilby INFO    : Loaded Overall from /home/ethan.payne/projects/evidencemaximizedprior/observing_run_PE/O1O2/GW170608_GWTC-1.hdf5.\n",
      "11:15 bilby INFO    : Loaded Overall from /home/ethan.payne/projects/evidencemaximizedprior/observing_run_PE/O1O2/GW170809_GWTC-1.hdf5.\n",
      "11:15 bilby INFO    : Found 40 O3a events in standard format.\n",
      "11:15 bilby INFO    : Loaded PrecessingSpinIMRHM from /home/ethan.payne/projects/evidencemaximizedprior/observing_run_PE/O3a/S190828j.h5.\n",
      "11:15 bilby INFO    : Loaded PrecessingSpinIMRHM from /home/ethan.payne/projects/evidencemaximizedprior/observing_run_PE/O3a/S190727h.h5.\n",
      "11:15 bilby INFO    : Loaded PrecessingSpinIMRHM from /home/ethan.payne/projects/evidencemaximizedprior/observing_run_PE/O3a/S190503bf.h5.\n",
      "11:15 bilby INFO    : Loaded PrecessingSpinIMRHM from /home/ethan.payne/projects/evidencemaximizedprior/observing_run_PE/O3a/S190706ai.h5.\n",
      "11:15 bilby INFO    : Loaded PrecessingSpinIMRHM from /home/ethan.payne/projects/evidencemaximizedprior/observing_run_PE/O3a/S190412m.h5.\n",
      "11:15 bilby INFO    : Loaded PrecessingSpinIMRHM from /home/ethan.payne/projects/evidencemaximizedprior/observing_run_PE/O3a/S190731aa.h5.\n",
      "11:15 bilby INFO    : Loaded PrecessingSpinIMRHM from /home/ethan.payne/projects/evidencemaximizedprior/observing_run_PE/O3a/S190917u.h5.\n",
      "11:15 bilby INFO    : Loaded PrecessingSpinIMRHM from /home/ethan.payne/projects/evidencemaximizedprior/observing_run_PE/O3a/S190413i.h5.\n",
      "11:15 bilby INFO    : Loaded PrecessingSpinIMRHM from /home/ethan.payne/projects/evidencemaximizedprior/observing_run_PE/O3a/S190828l.h5.\n",
      "11:15 bilby INFO    : Loaded PrecessingSpinIMRHM from /home/ethan.payne/projects/evidencemaximizedprior/observing_run_PE/O3a/S190519bj.h5.\n",
      "11:15 bilby INFO    : Loaded PrecessingSpinIMRHM from /home/ethan.payne/projects/evidencemaximizedprior/observing_run_PE/O3a/S190408an.h5.\n",
      "11:15 bilby INFO    : Loaded PrecessingSpinIMRHM from /home/ethan.payne/projects/evidencemaximizedprior/observing_run_PE/O3a/S190915ak.h5.\n",
      "11:15 bilby INFO    : Loaded PrecessingSpinIMRHM from /home/ethan.payne/projects/evidencemaximizedprior/observing_run_PE/O3a/S190708ap.h5.\n",
      "11:15 bilby INFO    : Loaded PrecessingSpinIMRHM from /home/ethan.payne/projects/evidencemaximizedprior/observing_run_PE/O3a/S190725t.h5.\n",
      "11:15 bilby INFO    : Loaded PrecessingSpinIMRHM from /home/ethan.payne/projects/evidencemaximizedprior/observing_run_PE/O3a/S190413ac.h5.\n",
      "11:15 bilby INFO    : Loaded PrecessingSpinIMRHM from /home/ethan.payne/projects/evidencemaximizedprior/observing_run_PE/O3a/S190910s.h5.\n",
      "11:15 bilby INFO    : Loaded PrecessingSpinIMRHM from /home/ethan.payne/projects/evidencemaximizedprior/observing_run_PE/O3a/S190707q.h5.\n",
      "11:15 bilby INFO    : Loaded PrecessingSpinIMRHM from /home/ethan.payne/projects/evidencemaximizedprior/observing_run_PE/O3a/S190602aq.h5.\n",
      "11:15 bilby INFO    : Loaded PrecessingSpinIMRHM from /home/ethan.payne/projects/evidencemaximizedprior/observing_run_PE/O3a/S190521r.h5.\n",
      "11:15 bilby INFO    : Loaded PrecessingSpinIMRHM from /home/ethan.payne/projects/evidencemaximizedprior/observing_run_PE/O3a/S190925ad.h5.\n",
      "11:15 bilby INFO    : Loaded PrecessingSpinIMRHM from /home/ethan.payne/projects/evidencemaximizedprior/observing_run_PE/O3a/S190421ar.h5.\n",
      "11:15 bilby INFO    : Loaded PrecessingSpinIMRHM from /home/ethan.payne/projects/evidencemaximizedprior/observing_run_PE/O3a/S190924h.h5.\n",
      "11:15 bilby INFO    : Loaded AlignedSpinInspiralTidal_HS from /home/ethan.payne/projects/evidencemaximizedprior/observing_run_PE/O3a/S190425z.h5.\n",
      "11:15 bilby INFO    : Loaded PrecessingSpinIMRHM from /home/ethan.payne/projects/evidencemaximizedprior/observing_run_PE/O3a/S190930s.h5.\n",
      "11:15 bilby INFO    : Loaded PrecessingSpinIMRHM from /home/ethan.payne/projects/evidencemaximizedprior/observing_run_PE/O3a/S190620e.h5.\n",
      "11:15 bilby INFO    : Loaded PrecessingSpinIMRHM from /home/ethan.payne/projects/evidencemaximizedprior/observing_run_PE/O3a/S190521g.h5.\n",
      "11:15 bilby INFO    : Loaded PrecessingSpinIMRHM from /home/ethan.payne/projects/evidencemaximizedprior/observing_run_PE/O3a/S190701ah.h5.\n",
      "11:15 bilby INFO    : Loaded PrecessingSpinIMRHM from /home/ethan.payne/projects/evidencemaximizedprior/observing_run_PE/O3a/S190527w.h5.\n",
      "11:15 bilby INFO    : Loaded PrecessingSpinIMRHM from /home/ethan.payne/projects/evidencemaximizedprior/observing_run_PE/O3a/S190814bv.h5.\n",
      "11:15 bilby INFO    : Loaded PrecessingSpinIMRHM from /home/ethan.payne/projects/evidencemaximizedprior/observing_run_PE/O3a/S190512at.h5.\n",
      "11:15 bilby INFO    : Loaded PrecessingSpinIMRHM from /home/ethan.payne/projects/evidencemaximizedprior/observing_run_PE/O3a/S190803e.h5.\n",
      "11:15 bilby INFO    : Loaded PrecessingSpinIMRHM from /home/ethan.payne/projects/evidencemaximizedprior/observing_run_PE/O3a/S190929d.h5.\n",
      "11:15 bilby INFO    : Loaded PrecessingSpinIMRHM from /home/ethan.payne/projects/evidencemaximizedprior/observing_run_PE/O3a/S190805bq.h5.\n",
      "11:15 bilby INFO    : Loaded PrecessingSpinIMRHM from /home/ethan.payne/projects/evidencemaximizedprior/observing_run_PE/O3a/S190630ag.h5.\n",
      "11:15 bilby INFO    : Loaded PrecessingSpinIMRHM from /home/ethan.payne/projects/evidencemaximizedprior/observing_run_PE/O3a/S190728q.h5.\n",
      "11:15 bilby INFO    : Loaded PrecessingSpinIMRHM from /home/ethan.payne/projects/evidencemaximizedprior/observing_run_PE/O3a/S190517h.h5.\n",
      "11:15 bilby INFO    : Loaded PrecessingSpinIMRHM from /home/ethan.payne/projects/evidencemaximizedprior/observing_run_PE/O3a/S190719an.h5.\n",
      "11:15 bilby INFO    : Loaded PrecessingSpinIMRHM from /home/ethan.payne/projects/evidencemaximizedprior/observing_run_PE/O3a/S190513bm.h5.\n",
      "11:15 bilby INFO    : Loaded PrecessingSpinIMRHM from /home/ethan.payne/projects/evidencemaximizedprior/observing_run_PE/O3a/S190720a.h5.\n",
      "11:15 bilby INFO    : Loaded PrecessingSpinIMRHM from /home/ethan.payne/projects/evidencemaximizedprior/observing_run_PE/O3a/S190426c.h5.\n",
      "11:15 bilby INFO    : Found 25 O3b events in standard format.\n",
      "11:15 bilby INFO    : Loaded C01:Mixed from /home/ethan.payne/projects/evidencemaximizedprior/observing_run_PE/O3b/S200316bj.h5.\n",
      "11:15 bilby INFO    : Loaded C01:Mixed from /home/ethan.payne/projects/evidencemaximizedprior/observing_run_PE/O3b/S191103a.h5.\n",
      "11:15 bilby INFO    : Loaded C01:Mixed from /home/ethan.payne/projects/evidencemaximizedprior/observing_run_PE/O3b/S191204r.h5.\n",
      "11:15 bilby INFO    : Loaded C01:Mixed from /home/ethan.payne/projects/evidencemaximizedprior/observing_run_PE/O3b/S191129u.h5.\n",
      "11:15 bilby INFO    : Loaded C01:Mixed from /home/ethan.payne/projects/evidencemaximizedprior/observing_run_PE/O3b/S200112r.h5.\n",
      "11:15 bilby INFO    : Loaded C01:Mixed from /home/ethan.payne/projects/evidencemaximizedprior/observing_run_PE/O3b/S191105e.h5.\n",
      "11:15 bilby INFO    : Loaded C01:Mixed from /home/ethan.payne/projects/evidencemaximizedprior/observing_run_PE/O3b/S200311bg.h5.\n",
      "11:15 bilby INFO    : Loaded C01:Mixed from /home/ethan.payne/projects/evidencemaximizedprior/observing_run_PE/O3b/S191222n.h5.\n",
      "11:15 bilby INFO    : Loaded C01:Mixed from /home/ethan.payne/projects/evidencemaximizedprior/observing_run_PE/O3b/S200128d.h5.\n",
      "11:15 bilby INFO    : Loaded C01:Mixed from /home/ethan.payne/projects/evidencemaximizedprior/observing_run_PE/O3b/S200219ac.h5.\n",
      "11:15 bilby INFO    : Loaded C01:Mixed from /home/ethan.payne/projects/evidencemaximizedprior/observing_run_PE/O3b/S191215w.h5.\n",
      "11:15 bilby INFO    : Loaded C01:Mixed from /home/ethan.payne/projects/evidencemaximizedprior/observing_run_PE/O3b/S200209ab.h5.\n",
      "11:15 bilby INFO    : Loaded C01:Mixed from /home/ethan.payne/projects/evidencemaximizedprior/observing_run_PE/O3b/S200302c.h5.\n",
      "11:15 bilby INFO    : Loaded C01:Mixed from /home/ethan.payne/projects/evidencemaximizedprior/observing_run_PE/O3b/S191127p.h5.\n",
      "11:16 bilby INFO    : Loaded C01:Mixed from /home/ethan.payne/projects/evidencemaximizedprior/observing_run_PE/O3b/S200216br.h5.\n",
      "11:16 bilby INFO    : Loaded C01:Mixed from /home/ethan.payne/projects/evidencemaximizedprior/observing_run_PE/O3b/S191109d.h5.\n",
      "11:16 bilby INFO    : Loaded C01:Mixed from /home/ethan.payne/projects/evidencemaximizedprior/observing_run_PE/O3b/S191216ap.h5.\n",
      "11:16 bilby INFO    : Loaded C01:Mixed from /home/ethan.payne/projects/evidencemaximizedprior/observing_run_PE/O3b/S200115j.h5.\n",
      "11:16 bilby INFO    : Loaded C01:Mixed from /home/ethan.payne/projects/evidencemaximizedprior/observing_run_PE/O3b/S200208q.h5.\n",
      "11:16 bilby INFO    : Loaded C01:Mixed from /home/ethan.payne/projects/evidencemaximizedprior/observing_run_PE/O3b/S191230an.h5.\n",
      "11:16 bilby INFO    : Loaded C01:Mixed from /home/ethan.payne/projects/evidencemaximizedprior/observing_run_PE/O3b/S200224ca.h5.\n",
      "11:16 bilby INFO    : Loaded C01:Mixed from /home/ethan.payne/projects/evidencemaximizedprior/observing_run_PE/O3b/S200225q.h5.\n",
      "11:16 bilby INFO    : Loaded C01:Mixed from /home/ethan.payne/projects/evidencemaximizedprior/observing_run_PE/O3b/S200105ae.h5.\n",
      "11:16 bilby INFO    : Loaded C01:Mixed from /home/ethan.payne/projects/evidencemaximizedprior/observing_run_PE/O3b/S200202ac.h5.\n",
      "11:16 bilby INFO    : Loaded C01:Mixed from /home/ethan.payne/projects/evidencemaximizedprior/observing_run_PE/O3b/S200129m.h5.\n",
      "11:16 bilby INFO    : Using Euclidean distance prior for all events.\n",
      "11:16 bilby INFO    : Assuming flat in detector frame mass prior for /home/ethan.payne/projects/evidencemaximizedprior/observing_run_PE/O1O2/GW151012_GWTC-1.hdf5\n",
      "11:16 bilby INFO    : Assuming uniform in component spin prior for /home/ethan.payne/projects/evidencemaximizedprior/observing_run_PE/O1O2/GW151012_GWTC-1.hdf5\n",
      "11:16 bilby INFO    : Assuming flat in detector frame mass prior for /home/ethan.payne/projects/evidencemaximizedprior/observing_run_PE/O1O2/GW170823_GWTC-1.hdf5\n",
      "11:16 bilby INFO    : Assuming uniform in component spin prior for /home/ethan.payne/projects/evidencemaximizedprior/observing_run_PE/O1O2/GW170823_GWTC-1.hdf5\n",
      "11:16 bilby INFO    : Assuming flat in detector frame mass prior for /home/ethan.payne/projects/evidencemaximizedprior/observing_run_PE/O1O2/GW151226_GWTC-1.hdf5\n",
      "11:16 bilby INFO    : Assuming uniform in component spin prior for /home/ethan.payne/projects/evidencemaximizedprior/observing_run_PE/O1O2/GW151226_GWTC-1.hdf5\n",
      "11:16 bilby INFO    : Assuming flat in detector frame mass prior for /home/ethan.payne/projects/evidencemaximizedprior/observing_run_PE/O1O2/GW150914_GWTC-1.hdf5\n",
      "11:16 bilby INFO    : Assuming uniform in component spin prior for /home/ethan.payne/projects/evidencemaximizedprior/observing_run_PE/O1O2/GW150914_GWTC-1.hdf5\n",
      "11:16 bilby INFO    : Assuming flat in detector frame mass prior for /home/ethan.payne/projects/evidencemaximizedprior/observing_run_PE/O1O2/GW170104_GWTC-1.hdf5\n",
      "11:16 bilby INFO    : Assuming uniform in component spin prior for /home/ethan.payne/projects/evidencemaximizedprior/observing_run_PE/O1O2/GW170104_GWTC-1.hdf5\n",
      "11:16 bilby INFO    : Assuming flat in detector frame mass prior for /home/ethan.payne/projects/evidencemaximizedprior/observing_run_PE/O1O2/GW170818_GWTC-1.hdf5\n",
      "11:16 bilby INFO    : Assuming uniform in component spin prior for /home/ethan.payne/projects/evidencemaximizedprior/observing_run_PE/O1O2/GW170818_GWTC-1.hdf5\n",
      "11:16 bilby INFO    : Assuming flat in detector frame mass prior for /home/ethan.payne/projects/evidencemaximizedprior/observing_run_PE/O1O2/GW170729_GWTC-1.hdf5\n",
      "11:16 bilby INFO    : Assuming uniform in component spin prior for /home/ethan.payne/projects/evidencemaximizedprior/observing_run_PE/O1O2/GW170729_GWTC-1.hdf5\n",
      "11:16 bilby INFO    : Assuming flat in detector frame mass prior for /home/ethan.payne/projects/evidencemaximizedprior/observing_run_PE/O1O2/GW170814_GWTC-1.hdf5\n",
      "11:16 bilby INFO    : Assuming uniform in component spin prior for /home/ethan.payne/projects/evidencemaximizedprior/observing_run_PE/O1O2/GW170814_GWTC-1.hdf5\n",
      "11:16 bilby INFO    : Assuming flat in detector frame mass prior for /home/ethan.payne/projects/evidencemaximizedprior/observing_run_PE/O1O2/GW170608_GWTC-1.hdf5\n",
      "11:16 bilby INFO    : Assuming uniform in component spin prior for /home/ethan.payne/projects/evidencemaximizedprior/observing_run_PE/O1O2/GW170608_GWTC-1.hdf5\n",
      "11:16 bilby INFO    : Assuming flat in detector frame mass prior for /home/ethan.payne/projects/evidencemaximizedprior/observing_run_PE/O1O2/GW170809_GWTC-1.hdf5\n",
      "11:16 bilby INFO    : Assuming uniform in component spin prior for /home/ethan.payne/projects/evidencemaximizedprior/observing_run_PE/O1O2/GW170809_GWTC-1.hdf5\n",
      "11:16 bilby INFO    : Assuming flat in detector frame mass prior for /home/ethan.payne/projects/evidencemaximizedprior/observing_run_PE/O3a/S190828j.h5\n",
      "11:16 bilby INFO    : Assuming uniform in component spin prior for /home/ethan.payne/projects/evidencemaximizedprior/observing_run_PE/O3a/S190828j.h5\n",
      "11:16 bilby INFO    : Assuming flat in detector frame mass prior for /home/ethan.payne/projects/evidencemaximizedprior/observing_run_PE/O3a/S190727h.h5\n",
      "11:16 bilby INFO    : Assuming uniform in component spin prior for /home/ethan.payne/projects/evidencemaximizedprior/observing_run_PE/O3a/S190727h.h5\n",
      "11:16 bilby INFO    : Assuming flat in detector frame mass prior for /home/ethan.payne/projects/evidencemaximizedprior/observing_run_PE/O3a/S190503bf.h5\n",
      "11:16 bilby INFO    : Assuming uniform in component spin prior for /home/ethan.payne/projects/evidencemaximizedprior/observing_run_PE/O3a/S190503bf.h5\n",
      "11:16 bilby INFO    : Assuming flat in detector frame mass prior for /home/ethan.payne/projects/evidencemaximizedprior/observing_run_PE/O3a/S190706ai.h5\n",
      "11:16 bilby INFO    : Assuming uniform in component spin prior for /home/ethan.payne/projects/evidencemaximizedprior/observing_run_PE/O3a/S190706ai.h5\n",
      "11:16 bilby INFO    : Assuming flat in detector frame mass prior for /home/ethan.payne/projects/evidencemaximizedprior/observing_run_PE/O3a/S190412m.h5\n",
      "11:16 bilby INFO    : Assuming uniform in component spin prior for /home/ethan.payne/projects/evidencemaximizedprior/observing_run_PE/O3a/S190412m.h5\n",
      "11:16 bilby INFO    : Assuming flat in detector frame mass prior for /home/ethan.payne/projects/evidencemaximizedprior/observing_run_PE/O3a/S190731aa.h5\n",
      "11:16 bilby INFO    : Assuming uniform in component spin prior for /home/ethan.payne/projects/evidencemaximizedprior/observing_run_PE/O3a/S190731aa.h5\n",
      "11:16 bilby INFO    : Assuming flat in detector frame mass prior for /home/ethan.payne/projects/evidencemaximizedprior/observing_run_PE/O3a/S190917u.h5\n",
      "11:16 bilby INFO    : Assuming uniform in component spin prior for /home/ethan.payne/projects/evidencemaximizedprior/observing_run_PE/O3a/S190917u.h5\n",
      "11:16 bilby INFO    : Assuming flat in detector frame mass prior for /home/ethan.payne/projects/evidencemaximizedprior/observing_run_PE/O3a/S190413i.h5\n",
      "11:16 bilby INFO    : Assuming uniform in component spin prior for /home/ethan.payne/projects/evidencemaximizedprior/observing_run_PE/O3a/S190413i.h5\n",
      "11:16 bilby INFO    : Assuming flat in detector frame mass prior for /home/ethan.payne/projects/evidencemaximizedprior/observing_run_PE/O3a/S190828l.h5\n",
      "11:16 bilby INFO    : Assuming uniform in component spin prior for /home/ethan.payne/projects/evidencemaximizedprior/observing_run_PE/O3a/S190828l.h5\n",
      "11:16 bilby INFO    : Assuming flat in detector frame mass prior for /home/ethan.payne/projects/evidencemaximizedprior/observing_run_PE/O3a/S190519bj.h5\n",
      "11:16 bilby INFO    : Assuming uniform in component spin prior for /home/ethan.payne/projects/evidencemaximizedprior/observing_run_PE/O3a/S190519bj.h5\n",
      "11:16 bilby INFO    : Assuming flat in detector frame mass prior for /home/ethan.payne/projects/evidencemaximizedprior/observing_run_PE/O3a/S190408an.h5\n",
      "11:16 bilby INFO    : Assuming uniform in component spin prior for /home/ethan.payne/projects/evidencemaximizedprior/observing_run_PE/O3a/S190408an.h5\n",
      "11:16 bilby INFO    : Assuming flat in detector frame mass prior for /home/ethan.payne/projects/evidencemaximizedprior/observing_run_PE/O3a/S190915ak.h5\n",
      "11:16 bilby INFO    : Assuming uniform in component spin prior for /home/ethan.payne/projects/evidencemaximizedprior/observing_run_PE/O3a/S190915ak.h5\n",
      "11:16 bilby INFO    : Assuming flat in detector frame mass prior for /home/ethan.payne/projects/evidencemaximizedprior/observing_run_PE/O3a/S190708ap.h5\n",
      "11:16 bilby INFO    : Assuming uniform in component spin prior for /home/ethan.payne/projects/evidencemaximizedprior/observing_run_PE/O3a/S190708ap.h5\n",
      "11:16 bilby INFO    : Assuming flat in detector frame mass prior for /home/ethan.payne/projects/evidencemaximizedprior/observing_run_PE/O3a/S190725t.h5\n",
      "11:16 bilby INFO    : Assuming uniform in component spin prior for /home/ethan.payne/projects/evidencemaximizedprior/observing_run_PE/O3a/S190725t.h5\n",
      "11:16 bilby INFO    : Assuming flat in detector frame mass prior for /home/ethan.payne/projects/evidencemaximizedprior/observing_run_PE/O3a/S190413ac.h5\n",
      "11:16 bilby INFO    : Assuming uniform in component spin prior for /home/ethan.payne/projects/evidencemaximizedprior/observing_run_PE/O3a/S190413ac.h5\n",
      "11:16 bilby INFO    : Assuming flat in detector frame mass prior for /home/ethan.payne/projects/evidencemaximizedprior/observing_run_PE/O3a/S190910s.h5\n",
      "11:16 bilby INFO    : Assuming uniform in component spin prior for /home/ethan.payne/projects/evidencemaximizedprior/observing_run_PE/O3a/S190910s.h5\n",
      "11:16 bilby INFO    : Assuming flat in detector frame mass prior for /home/ethan.payne/projects/evidencemaximizedprior/observing_run_PE/O3a/S190707q.h5\n",
      "11:16 bilby INFO    : Assuming uniform in component spin prior for /home/ethan.payne/projects/evidencemaximizedprior/observing_run_PE/O3a/S190707q.h5\n",
      "11:16 bilby INFO    : Assuming flat in detector frame mass prior for /home/ethan.payne/projects/evidencemaximizedprior/observing_run_PE/O3a/S190602aq.h5\n",
      "11:16 bilby INFO    : Assuming uniform in component spin prior for /home/ethan.payne/projects/evidencemaximizedprior/observing_run_PE/O3a/S190602aq.h5\n",
      "11:16 bilby INFO    : Assuming flat in detector frame mass prior for /home/ethan.payne/projects/evidencemaximizedprior/observing_run_PE/O3a/S190521r.h5\n",
      "11:16 bilby INFO    : Assuming uniform in component spin prior for /home/ethan.payne/projects/evidencemaximizedprior/observing_run_PE/O3a/S190521r.h5\n",
      "11:16 bilby INFO    : Assuming flat in detector frame mass prior for /home/ethan.payne/projects/evidencemaximizedprior/observing_run_PE/O3a/S190925ad.h5\n",
      "11:16 bilby INFO    : Assuming uniform in component spin prior for /home/ethan.payne/projects/evidencemaximizedprior/observing_run_PE/O3a/S190925ad.h5\n",
      "11:16 bilby INFO    : Assuming flat in detector frame mass prior for /home/ethan.payne/projects/evidencemaximizedprior/observing_run_PE/O3a/S190421ar.h5\n",
      "11:16 bilby INFO    : Assuming uniform in component spin prior for /home/ethan.payne/projects/evidencemaximizedprior/observing_run_PE/O3a/S190421ar.h5\n",
      "11:16 bilby INFO    : Assuming flat in detector frame mass prior for /home/ethan.payne/projects/evidencemaximizedprior/observing_run_PE/O3a/S190924h.h5\n",
      "11:16 bilby INFO    : Assuming uniform in component spin prior for /home/ethan.payne/projects/evidencemaximizedprior/observing_run_PE/O3a/S190924h.h5\n",
      "11:16 bilby INFO    : Assuming flat in detector frame mass prior for /home/ethan.payne/projects/evidencemaximizedprior/observing_run_PE/O3a/S190425z.h5\n",
      "11:16 bilby INFO    : Assuming uniform in component spin prior for /home/ethan.payne/projects/evidencemaximizedprior/observing_run_PE/O3a/S190425z.h5\n",
      "11:16 bilby INFO    : Assuming flat in detector frame mass prior for /home/ethan.payne/projects/evidencemaximizedprior/observing_run_PE/O3a/S190930s.h5\n",
      "11:16 bilby INFO    : Assuming uniform in component spin prior for /home/ethan.payne/projects/evidencemaximizedprior/observing_run_PE/O3a/S190930s.h5\n",
      "11:16 bilby INFO    : Assuming flat in detector frame mass prior for /home/ethan.payne/projects/evidencemaximizedprior/observing_run_PE/O3a/S190620e.h5\n",
      "11:16 bilby INFO    : Assuming uniform in component spin prior for /home/ethan.payne/projects/evidencemaximizedprior/observing_run_PE/O3a/S190620e.h5\n",
      "11:16 bilby INFO    : Assuming flat in detector frame mass prior for /home/ethan.payne/projects/evidencemaximizedprior/observing_run_PE/O3a/S190521g.h5\n",
      "11:16 bilby INFO    : Assuming uniform in component spin prior for /home/ethan.payne/projects/evidencemaximizedprior/observing_run_PE/O3a/S190521g.h5\n",
      "11:16 bilby INFO    : Assuming flat in detector frame mass prior for /home/ethan.payne/projects/evidencemaximizedprior/observing_run_PE/O3a/S190701ah.h5\n",
      "11:16 bilby INFO    : Assuming uniform in component spin prior for /home/ethan.payne/projects/evidencemaximizedprior/observing_run_PE/O3a/S190701ah.h5\n",
      "11:16 bilby INFO    : Assuming flat in detector frame mass prior for /home/ethan.payne/projects/evidencemaximizedprior/observing_run_PE/O3a/S190527w.h5\n",
      "11:16 bilby INFO    : Assuming uniform in component spin prior for /home/ethan.payne/projects/evidencemaximizedprior/observing_run_PE/O3a/S190527w.h5\n",
      "11:16 bilby INFO    : Assuming flat in detector frame mass prior for /home/ethan.payne/projects/evidencemaximizedprior/observing_run_PE/O3a/S190814bv.h5\n",
      "11:16 bilby INFO    : Assuming uniform in component spin prior for /home/ethan.payne/projects/evidencemaximizedprior/observing_run_PE/O3a/S190814bv.h5\n",
      "11:16 bilby INFO    : Assuming flat in detector frame mass prior for /home/ethan.payne/projects/evidencemaximizedprior/observing_run_PE/O3a/S190512at.h5\n",
      "11:16 bilby INFO    : Assuming uniform in component spin prior for /home/ethan.payne/projects/evidencemaximizedprior/observing_run_PE/O3a/S190512at.h5\n",
      "11:16 bilby INFO    : Assuming flat in detector frame mass prior for /home/ethan.payne/projects/evidencemaximizedprior/observing_run_PE/O3a/S190803e.h5\n",
      "11:16 bilby INFO    : Assuming uniform in component spin prior for /home/ethan.payne/projects/evidencemaximizedprior/observing_run_PE/O3a/S190803e.h5\n",
      "11:16 bilby INFO    : Assuming flat in detector frame mass prior for /home/ethan.payne/projects/evidencemaximizedprior/observing_run_PE/O3a/S190929d.h5\n",
      "11:16 bilby INFO    : Assuming uniform in component spin prior for /home/ethan.payne/projects/evidencemaximizedprior/observing_run_PE/O3a/S190929d.h5\n",
      "11:16 bilby INFO    : Assuming flat in detector frame mass prior for /home/ethan.payne/projects/evidencemaximizedprior/observing_run_PE/O3a/S190805bq.h5\n",
      "11:16 bilby INFO    : Assuming uniform in component spin prior for /home/ethan.payne/projects/evidencemaximizedprior/observing_run_PE/O3a/S190805bq.h5\n",
      "11:16 bilby INFO    : Assuming flat in detector frame mass prior for /home/ethan.payne/projects/evidencemaximizedprior/observing_run_PE/O3a/S190630ag.h5\n",
      "11:16 bilby INFO    : Assuming uniform in component spin prior for /home/ethan.payne/projects/evidencemaximizedprior/observing_run_PE/O3a/S190630ag.h5\n",
      "11:16 bilby INFO    : Assuming flat in detector frame mass prior for /home/ethan.payne/projects/evidencemaximizedprior/observing_run_PE/O3a/S190728q.h5\n",
      "11:16 bilby INFO    : Assuming uniform in component spin prior for /home/ethan.payne/projects/evidencemaximizedprior/observing_run_PE/O3a/S190728q.h5\n",
      "11:16 bilby INFO    : Assuming flat in detector frame mass prior for /home/ethan.payne/projects/evidencemaximizedprior/observing_run_PE/O3a/S190517h.h5\n",
      "11:16 bilby INFO    : Assuming uniform in component spin prior for /home/ethan.payne/projects/evidencemaximizedprior/observing_run_PE/O3a/S190517h.h5\n",
      "11:16 bilby INFO    : Assuming flat in detector frame mass prior for /home/ethan.payne/projects/evidencemaximizedprior/observing_run_PE/O3a/S190719an.h5\n",
      "11:16 bilby INFO    : Assuming uniform in component spin prior for /home/ethan.payne/projects/evidencemaximizedprior/observing_run_PE/O3a/S190719an.h5\n",
      "11:16 bilby INFO    : Assuming flat in detector frame mass prior for /home/ethan.payne/projects/evidencemaximizedprior/observing_run_PE/O3a/S190513bm.h5\n",
      "11:16 bilby INFO    : Assuming uniform in component spin prior for /home/ethan.payne/projects/evidencemaximizedprior/observing_run_PE/O3a/S190513bm.h5\n",
      "11:16 bilby INFO    : Assuming flat in detector frame mass prior for /home/ethan.payne/projects/evidencemaximizedprior/observing_run_PE/O3a/S190720a.h5\n",
      "11:16 bilby INFO    : Assuming uniform in component spin prior for /home/ethan.payne/projects/evidencemaximizedprior/observing_run_PE/O3a/S190720a.h5\n",
      "11:16 bilby INFO    : Assuming flat in detector frame mass prior for /home/ethan.payne/projects/evidencemaximizedprior/observing_run_PE/O3a/S190426c.h5\n",
      "11:16 bilby INFO    : Assuming uniform in component spin prior for /home/ethan.payne/projects/evidencemaximizedprior/observing_run_PE/O3a/S190426c.h5\n",
      "11:16 bilby INFO    : Assuming flat in detector frame mass prior for /home/ethan.payne/projects/evidencemaximizedprior/observing_run_PE/O3b/S200316bj.h5\n",
      "11:16 bilby INFO    : Assuming uniform in component spin prior for /home/ethan.payne/projects/evidencemaximizedprior/observing_run_PE/O3b/S200316bj.h5\n",
      "11:16 bilby INFO    : Assuming flat in detector frame mass prior for /home/ethan.payne/projects/evidencemaximizedprior/observing_run_PE/O3b/S191103a.h5\n",
      "11:16 bilby INFO    : Assuming uniform in component spin prior for /home/ethan.payne/projects/evidencemaximizedprior/observing_run_PE/O3b/S191103a.h5\n",
      "11:16 bilby INFO    : Assuming flat in detector frame mass prior for /home/ethan.payne/projects/evidencemaximizedprior/observing_run_PE/O3b/S191204r.h5\n",
      "11:16 bilby INFO    : Assuming uniform in component spin prior for /home/ethan.payne/projects/evidencemaximizedprior/observing_run_PE/O3b/S191204r.h5\n",
      "11:16 bilby INFO    : Assuming flat in detector frame mass prior for /home/ethan.payne/projects/evidencemaximizedprior/observing_run_PE/O3b/S191129u.h5\n",
      "11:16 bilby INFO    : Assuming uniform in component spin prior for /home/ethan.payne/projects/evidencemaximizedprior/observing_run_PE/O3b/S191129u.h5\n",
      "11:16 bilby INFO    : Assuming flat in detector frame mass prior for /home/ethan.payne/projects/evidencemaximizedprior/observing_run_PE/O3b/S200112r.h5\n",
      "11:16 bilby INFO    : Assuming uniform in component spin prior for /home/ethan.payne/projects/evidencemaximizedprior/observing_run_PE/O3b/S200112r.h5\n",
      "11:16 bilby INFO    : Assuming flat in detector frame mass prior for /home/ethan.payne/projects/evidencemaximizedprior/observing_run_PE/O3b/S191105e.h5\n",
      "11:16 bilby INFO    : Assuming uniform in component spin prior for /home/ethan.payne/projects/evidencemaximizedprior/observing_run_PE/O3b/S191105e.h5\n",
      "11:16 bilby INFO    : Assuming flat in detector frame mass prior for /home/ethan.payne/projects/evidencemaximizedprior/observing_run_PE/O3b/S200311bg.h5\n",
      "11:16 bilby INFO    : Assuming uniform in component spin prior for /home/ethan.payne/projects/evidencemaximizedprior/observing_run_PE/O3b/S200311bg.h5\n",
      "11:16 bilby INFO    : Assuming flat in detector frame mass prior for /home/ethan.payne/projects/evidencemaximizedprior/observing_run_PE/O3b/S191222n.h5\n",
      "11:16 bilby INFO    : Assuming uniform in component spin prior for /home/ethan.payne/projects/evidencemaximizedprior/observing_run_PE/O3b/S191222n.h5\n",
      "11:16 bilby INFO    : Assuming flat in detector frame mass prior for /home/ethan.payne/projects/evidencemaximizedprior/observing_run_PE/O3b/S200128d.h5\n",
      "11:16 bilby INFO    : Assuming uniform in component spin prior for /home/ethan.payne/projects/evidencemaximizedprior/observing_run_PE/O3b/S200128d.h5\n",
      "11:16 bilby INFO    : Assuming flat in detector frame mass prior for /home/ethan.payne/projects/evidencemaximizedprior/observing_run_PE/O3b/S200219ac.h5\n",
      "11:16 bilby INFO    : Assuming uniform in component spin prior for /home/ethan.payne/projects/evidencemaximizedprior/observing_run_PE/O3b/S200219ac.h5\n",
      "11:16 bilby INFO    : Assuming flat in detector frame mass prior for /home/ethan.payne/projects/evidencemaximizedprior/observing_run_PE/O3b/S191215w.h5\n",
      "11:16 bilby INFO    : Assuming uniform in component spin prior for /home/ethan.payne/projects/evidencemaximizedprior/observing_run_PE/O3b/S191215w.h5\n",
      "11:16 bilby INFO    : Assuming flat in detector frame mass prior for /home/ethan.payne/projects/evidencemaximizedprior/observing_run_PE/O3b/S200209ab.h5\n",
      "11:16 bilby INFO    : Assuming uniform in component spin prior for /home/ethan.payne/projects/evidencemaximizedprior/observing_run_PE/O3b/S200209ab.h5\n",
      "11:16 bilby INFO    : Assuming flat in detector frame mass prior for /home/ethan.payne/projects/evidencemaximizedprior/observing_run_PE/O3b/S200302c.h5\n",
      "11:16 bilby INFO    : Assuming uniform in component spin prior for /home/ethan.payne/projects/evidencemaximizedprior/observing_run_PE/O3b/S200302c.h5\n",
      "11:16 bilby INFO    : Assuming flat in detector frame mass prior for /home/ethan.payne/projects/evidencemaximizedprior/observing_run_PE/O3b/S191127p.h5\n",
      "11:16 bilby INFO    : Assuming uniform in component spin prior for /home/ethan.payne/projects/evidencemaximizedprior/observing_run_PE/O3b/S191127p.h5\n",
      "11:16 bilby INFO    : Assuming flat in detector frame mass prior for /home/ethan.payne/projects/evidencemaximizedprior/observing_run_PE/O3b/S200216br.h5\n",
      "11:16 bilby INFO    : Assuming uniform in component spin prior for /home/ethan.payne/projects/evidencemaximizedprior/observing_run_PE/O3b/S200216br.h5\n",
      "11:16 bilby INFO    : Assuming flat in detector frame mass prior for /home/ethan.payne/projects/evidencemaximizedprior/observing_run_PE/O3b/S191109d.h5\n",
      "11:16 bilby INFO    : Assuming uniform in component spin prior for /home/ethan.payne/projects/evidencemaximizedprior/observing_run_PE/O3b/S191109d.h5\n",
      "11:16 bilby INFO    : Assuming flat in detector frame mass prior for /home/ethan.payne/projects/evidencemaximizedprior/observing_run_PE/O3b/S191216ap.h5\n",
      "11:16 bilby INFO    : Assuming uniform in component spin prior for /home/ethan.payne/projects/evidencemaximizedprior/observing_run_PE/O3b/S191216ap.h5\n",
      "11:16 bilby INFO    : Assuming flat in detector frame mass prior for /home/ethan.payne/projects/evidencemaximizedprior/observing_run_PE/O3b/S200115j.h5\n",
      "11:16 bilby INFO    : Assuming uniform in component spin prior for /home/ethan.payne/projects/evidencemaximizedprior/observing_run_PE/O3b/S200115j.h5\n",
      "11:16 bilby INFO    : Assuming flat in detector frame mass prior for /home/ethan.payne/projects/evidencemaximizedprior/observing_run_PE/O3b/S200208q.h5\n",
      "11:16 bilby INFO    : Assuming uniform in component spin prior for /home/ethan.payne/projects/evidencemaximizedprior/observing_run_PE/O3b/S200208q.h5\n",
      "11:16 bilby INFO    : Assuming flat in detector frame mass prior for /home/ethan.payne/projects/evidencemaximizedprior/observing_run_PE/O3b/S191230an.h5\n",
      "11:16 bilby INFO    : Assuming uniform in component spin prior for /home/ethan.payne/projects/evidencemaximizedprior/observing_run_PE/O3b/S191230an.h5\n",
      "11:16 bilby INFO    : Assuming flat in detector frame mass prior for /home/ethan.payne/projects/evidencemaximizedprior/observing_run_PE/O3b/S200224ca.h5\n",
      "11:16 bilby INFO    : Assuming uniform in component spin prior for /home/ethan.payne/projects/evidencemaximizedprior/observing_run_PE/O3b/S200224ca.h5\n",
      "11:16 bilby INFO    : Assuming flat in detector frame mass prior for /home/ethan.payne/projects/evidencemaximizedprior/observing_run_PE/O3b/S200225q.h5\n",
      "11:16 bilby INFO    : Assuming uniform in component spin prior for /home/ethan.payne/projects/evidencemaximizedprior/observing_run_PE/O3b/S200225q.h5\n",
      "11:16 bilby INFO    : Assuming flat in detector frame mass prior for /home/ethan.payne/projects/evidencemaximizedprior/observing_run_PE/O3b/S200105ae.h5\n",
      "11:16 bilby INFO    : Assuming uniform in component spin prior for /home/ethan.payne/projects/evidencemaximizedprior/observing_run_PE/O3b/S200105ae.h5\n",
      "11:16 bilby INFO    : Assuming flat in detector frame mass prior for /home/ethan.payne/projects/evidencemaximizedprior/observing_run_PE/O3b/S200202ac.h5\n",
      "11:16 bilby INFO    : Assuming uniform in component spin prior for /home/ethan.payne/projects/evidencemaximizedprior/observing_run_PE/O3b/S200202ac.h5\n",
      "11:16 bilby INFO    : Assuming flat in detector frame mass prior for /home/ethan.payne/projects/evidencemaximizedprior/observing_run_PE/O3b/S200129m.h5\n",
      "11:16 bilby INFO    : Assuming uniform in component spin prior for /home/ethan.payne/projects/evidencemaximizedprior/observing_run_PE/O3b/S200129m.h5\n",
      "11:16 bilby INFO    : Loaded 75 posteriors.\n",
      "0it [00:00, ?it/s]/home/ethan.payne/.conda/envs/ve310/lib/python3.10/site-packages/gwpopulation-0.0.0-py3.10.egg/gwpopulation/models/mass.py:634: RuntimeWarning: overflow encountered in exp\n"
     ]
    },
    {
     "name": "stdout",
     "output_type": "stream",
     "text": [
      "GW151012_GWTC-1\n"
     ]
    },
    {
     "name": "stderr",
     "output_type": "stream",
     "text": [
      "/home/ethan.payne/.conda/envs/ve310/lib/python3.10/site-packages/gwpopulation-0.0.0-py3.10.egg/gwpopulation/models/mass.py:634: RuntimeWarning: overflow encountered in exp\n",
      "1it [00:06,  6.06s/it]/home/ethan.payne/.conda/envs/ve310/lib/python3.10/site-packages/gwpopulation-0.0.0-py3.10.egg/gwpopulation/models/mass.py:634: RuntimeWarning: overflow encountered in exp\n"
     ]
    },
    {
     "name": "stdout",
     "output_type": "stream",
     "text": [
      "GW170823_GWTC-1\n"
     ]
    },
    {
     "name": "stderr",
     "output_type": "stream",
     "text": [
      "/home/ethan.payne/.conda/envs/ve310/lib/python3.10/site-packages/gwpopulation-0.0.0-py3.10.egg/gwpopulation/models/mass.py:634: RuntimeWarning: overflow encountered in exp\n",
      "2it [00:08,  3.94s/it]/home/ethan.payne/.conda/envs/ve310/lib/python3.10/site-packages/gwpopulation-0.0.0-py3.10.egg/gwpopulation/models/mass.py:634: RuntimeWarning: overflow encountered in exp\n"
     ]
    },
    {
     "name": "stdout",
     "output_type": "stream",
     "text": [
      "GW151226_GWTC-1\n"
     ]
    },
    {
     "name": "stderr",
     "output_type": "stream",
     "text": [
      "/home/ethan.payne/.conda/envs/ve310/lib/python3.10/site-packages/gwpopulation-0.0.0-py3.10.egg/gwpopulation/models/mass.py:634: RuntimeWarning: overflow encountered in exp\n",
      "3it [00:23,  8.98s/it]/home/ethan.payne/.conda/envs/ve310/lib/python3.10/site-packages/gwpopulation-0.0.0-py3.10.egg/gwpopulation/models/mass.py:634: RuntimeWarning: overflow encountered in exp\n"
     ]
    },
    {
     "name": "stdout",
     "output_type": "stream",
     "text": [
      "GW150914_GWTC-1\n"
     ]
    },
    {
     "name": "stderr",
     "output_type": "stream",
     "text": [
      "/home/ethan.payne/.conda/envs/ve310/lib/python3.10/site-packages/gwpopulation-0.0.0-py3.10.egg/gwpopulation/models/mass.py:634: RuntimeWarning: overflow encountered in exp\n",
      "4it [00:27,  7.06s/it]/home/ethan.payne/.conda/envs/ve310/lib/python3.10/site-packages/gwpopulation-0.0.0-py3.10.egg/gwpopulation/models/mass.py:634: RuntimeWarning: overflow encountered in exp\n"
     ]
    },
    {
     "name": "stdout",
     "output_type": "stream",
     "text": [
      "GW170104_GWTC-1\n"
     ]
    },
    {
     "name": "stderr",
     "output_type": "stream",
     "text": [
      "/home/ethan.payne/.conda/envs/ve310/lib/python3.10/site-packages/gwpopulation-0.0.0-py3.10.egg/gwpopulation/models/mass.py:634: RuntimeWarning: overflow encountered in exp\n",
      "5it [00:35,  7.47s/it]/home/ethan.payne/.conda/envs/ve310/lib/python3.10/site-packages/gwpopulation-0.0.0-py3.10.egg/gwpopulation/models/mass.py:634: RuntimeWarning: overflow encountered in exp\n"
     ]
    },
    {
     "name": "stdout",
     "output_type": "stream",
     "text": [
      "GW170818_GWTC-1\n"
     ]
    },
    {
     "name": "stderr",
     "output_type": "stream",
     "text": [
      "/home/ethan.payne/.conda/envs/ve310/lib/python3.10/site-packages/gwpopulation-0.0.0-py3.10.egg/gwpopulation/models/mass.py:634: RuntimeWarning: overflow encountered in exp\n",
      "6it [00:38,  5.82s/it]/home/ethan.payne/.conda/envs/ve310/lib/python3.10/site-packages/gwpopulation-0.0.0-py3.10.egg/gwpopulation/models/mass.py:634: RuntimeWarning: overflow encountered in exp\n"
     ]
    },
    {
     "name": "stdout",
     "output_type": "stream",
     "text": [
      "GW170729_GWTC-1\n"
     ]
    },
    {
     "name": "stderr",
     "output_type": "stream",
     "text": [
      "/home/ethan.payne/.conda/envs/ve310/lib/python3.10/site-packages/gwpopulation-0.0.0-py3.10.egg/gwpopulation/models/mass.py:634: RuntimeWarning: overflow encountered in exp\n",
      "7it [00:41,  4.78s/it]/home/ethan.payne/.conda/envs/ve310/lib/python3.10/site-packages/gwpopulation-0.0.0-py3.10.egg/gwpopulation/models/mass.py:634: RuntimeWarning: overflow encountered in exp\n"
     ]
    },
    {
     "name": "stdout",
     "output_type": "stream",
     "text": [
      "GW170814_GWTC-1\n"
     ]
    },
    {
     "name": "stderr",
     "output_type": "stream",
     "text": [
      "/home/ethan.payne/.conda/envs/ve310/lib/python3.10/site-packages/gwpopulation-0.0.0-py3.10.egg/gwpopulation/models/mass.py:634: RuntimeWarning: overflow encountered in exp\n",
      "8it [00:54,  7.43s/it]/home/ethan.payne/.conda/envs/ve310/lib/python3.10/site-packages/gwpopulation-0.0.0-py3.10.egg/gwpopulation/models/mass.py:634: RuntimeWarning: overflow encountered in exp\n"
     ]
    },
    {
     "name": "stdout",
     "output_type": "stream",
     "text": [
      "GW170608_GWTC-1\n"
     ]
    },
    {
     "name": "stderr",
     "output_type": "stream",
     "text": [
      "/home/ethan.payne/.conda/envs/ve310/lib/python3.10/site-packages/gwpopulation-0.0.0-py3.10.egg/gwpopulation/models/mass.py:634: RuntimeWarning: overflow encountered in exp\n",
      "9it [00:58,  6.32s/it]/home/ethan.payne/.conda/envs/ve310/lib/python3.10/site-packages/gwpopulation-0.0.0-py3.10.egg/gwpopulation/models/mass.py:634: RuntimeWarning: overflow encountered in exp\n"
     ]
    },
    {
     "name": "stdout",
     "output_type": "stream",
     "text": [
      "GW170809_GWTC-1\n"
     ]
    },
    {
     "name": "stderr",
     "output_type": "stream",
     "text": [
      "/home/ethan.payne/.conda/envs/ve310/lib/python3.10/site-packages/gwpopulation-0.0.0-py3.10.egg/gwpopulation/models/mass.py:634: RuntimeWarning: overflow encountered in exp\n",
      "10it [01:03,  5.94s/it]/home/ethan.payne/.conda/envs/ve310/lib/python3.10/site-packages/gwpopulation-0.0.0-py3.10.egg/gwpopulation/models/mass.py:634: RuntimeWarning: overflow encountered in exp\n"
     ]
    },
    {
     "name": "stdout",
     "output_type": "stream",
     "text": [
      "S190828j\n"
     ]
    },
    {
     "name": "stderr",
     "output_type": "stream",
     "text": [
      "/home/ethan.payne/.conda/envs/ve310/lib/python3.10/site-packages/gwpopulation-0.0.0-py3.10.egg/gwpopulation/models/mass.py:634: RuntimeWarning: overflow encountered in exp\n",
      "11it [01:14,  7.51s/it]/home/ethan.payne/.conda/envs/ve310/lib/python3.10/site-packages/gwpopulation-0.0.0-py3.10.egg/gwpopulation/models/mass.py:634: RuntimeWarning: overflow encountered in exp\n"
     ]
    },
    {
     "name": "stdout",
     "output_type": "stream",
     "text": [
      "S190727h\n"
     ]
    },
    {
     "name": "stderr",
     "output_type": "stream",
     "text": [
      "/home/ethan.payne/.conda/envs/ve310/lib/python3.10/site-packages/gwpopulation-0.0.0-py3.10.egg/gwpopulation/models/mass.py:634: RuntimeWarning: overflow encountered in exp\n",
      "12it [01:33, 11.21s/it]"
     ]
    },
    {
     "name": "stdout",
     "output_type": "stream",
     "text": [
      "S190503bf\n"
     ]
    },
    {
     "name": "stderr",
     "output_type": "stream",
     "text": [
      "/home/ethan.payne/.conda/envs/ve310/lib/python3.10/site-packages/gwpopulation-0.0.0-py3.10.egg/gwpopulation/models/mass.py:634: RuntimeWarning: overflow encountered in exp\n",
      "/home/ethan.payne/.conda/envs/ve310/lib/python3.10/site-packages/gwpopulation-0.0.0-py3.10.egg/gwpopulation/models/mass.py:634: RuntimeWarning: overflow encountered in exp\n",
      "13it [02:00, 15.81s/it]/home/ethan.payne/.conda/envs/ve310/lib/python3.10/site-packages/gwpopulation-0.0.0-py3.10.egg/gwpopulation/models/mass.py:634: RuntimeWarning: overflow encountered in exp\n"
     ]
    },
    {
     "name": "stdout",
     "output_type": "stream",
     "text": [
      "S190706ai\n"
     ]
    },
    {
     "name": "stderr",
     "output_type": "stream",
     "text": [
      "/home/ethan.payne/.conda/envs/ve310/lib/python3.10/site-packages/gwpopulation-0.0.0-py3.10.egg/gwpopulation/models/mass.py:634: RuntimeWarning: overflow encountered in exp\n",
      "14it [02:12, 14.80s/it]/home/ethan.payne/.conda/envs/ve310/lib/python3.10/site-packages/gwpopulation-0.0.0-py3.10.egg/gwpopulation/models/mass.py:634: RuntimeWarning: overflow encountered in exp\n"
     ]
    },
    {
     "name": "stdout",
     "output_type": "stream",
     "text": [
      "S190412m\n"
     ]
    },
    {
     "name": "stderr",
     "output_type": "stream",
     "text": [
      "/home/ethan.payne/.conda/envs/ve310/lib/python3.10/site-packages/gwpopulation-0.0.0-py3.10.egg/gwpopulation/models/mass.py:634: RuntimeWarning: overflow encountered in exp\n",
      "15it [02:20, 12.57s/it]/home/ethan.payne/.conda/envs/ve310/lib/python3.10/site-packages/gwpopulation-0.0.0-py3.10.egg/gwpopulation/models/mass.py:634: RuntimeWarning: overflow encountered in exp\n"
     ]
    },
    {
     "name": "stdout",
     "output_type": "stream",
     "text": [
      "S190731aa\n"
     ]
    },
    {
     "name": "stderr",
     "output_type": "stream",
     "text": [
      "/home/ethan.payne/.conda/envs/ve310/lib/python3.10/site-packages/gwpopulation-0.0.0-py3.10.egg/gwpopulation/models/mass.py:634: RuntimeWarning: overflow encountered in exp\n",
      "16it [02:31, 12.35s/it]/home/ethan.payne/.conda/envs/ve310/lib/python3.10/site-packages/gwpopulation-0.0.0-py3.10.egg/gwpopulation/models/mass.py:634: RuntimeWarning: overflow encountered in exp\n"
     ]
    },
    {
     "name": "stdout",
     "output_type": "stream",
     "text": [
      "S190917u\n",
      "S190413i\n"
     ]
    },
    {
     "name": "stderr",
     "output_type": "stream",
     "text": [
      "/home/ethan.payne/.conda/envs/ve310/lib/python3.10/site-packages/gwpopulation-0.0.0-py3.10.egg/gwpopulation/models/mass.py:634: RuntimeWarning: overflow encountered in exp\n",
      "18it [02:50, 10.96s/it]/home/ethan.payne/.conda/envs/ve310/lib/python3.10/site-packages/gwpopulation-0.0.0-py3.10.egg/gwpopulation/models/mass.py:634: RuntimeWarning: overflow encountered in exp\n"
     ]
    },
    {
     "name": "stdout",
     "output_type": "stream",
     "text": [
      "S190828l\n"
     ]
    },
    {
     "name": "stderr",
     "output_type": "stream",
     "text": [
      "/home/ethan.payne/.conda/envs/ve310/lib/python3.10/site-packages/gwpopulation-0.0.0-py3.10.egg/gwpopulation/models/mass.py:634: RuntimeWarning: overflow encountered in exp\n",
      "19it [02:57, 10.01s/it]/home/ethan.payne/.conda/envs/ve310/lib/python3.10/site-packages/gwpopulation-0.0.0-py3.10.egg/gwpopulation/models/mass.py:634: RuntimeWarning: overflow encountered in exp\n"
     ]
    },
    {
     "name": "stdout",
     "output_type": "stream",
     "text": [
      "S190519bj\n"
     ]
    },
    {
     "name": "stderr",
     "output_type": "stream",
     "text": [
      "/home/ethan.payne/.conda/envs/ve310/lib/python3.10/site-packages/gwpopulation-0.0.0-py3.10.egg/gwpopulation/models/mass.py:634: RuntimeWarning: overflow encountered in exp\n",
      "20it [03:11, 11.10s/it]/home/ethan.payne/.conda/envs/ve310/lib/python3.10/site-packages/gwpopulation-0.0.0-py3.10.egg/gwpopulation/models/mass.py:634: RuntimeWarning: overflow encountered in exp\n"
     ]
    },
    {
     "name": "stdout",
     "output_type": "stream",
     "text": [
      "S190408an\n"
     ]
    },
    {
     "name": "stderr",
     "output_type": "stream",
     "text": [
      "/home/ethan.payne/.conda/envs/ve310/lib/python3.10/site-packages/gwpopulation-0.0.0-py3.10.egg/gwpopulation/models/mass.py:634: RuntimeWarning: overflow encountered in exp\n",
      "21it [03:24, 11.44s/it]/home/ethan.payne/.conda/envs/ve310/lib/python3.10/site-packages/gwpopulation-0.0.0-py3.10.egg/gwpopulation/models/mass.py:634: RuntimeWarning: overflow encountered in exp\n"
     ]
    },
    {
     "name": "stdout",
     "output_type": "stream",
     "text": [
      "S190915ak\n"
     ]
    },
    {
     "name": "stderr",
     "output_type": "stream",
     "text": [
      "/home/ethan.payne/.conda/envs/ve310/lib/python3.10/site-packages/gwpopulation-0.0.0-py3.10.egg/gwpopulation/models/mass.py:634: RuntimeWarning: overflow encountered in exp\n",
      "22it [03:36, 11.61s/it]/home/ethan.payne/.conda/envs/ve310/lib/python3.10/site-packages/gwpopulation-0.0.0-py3.10.egg/gwpopulation/models/mass.py:634: RuntimeWarning: overflow encountered in exp\n"
     ]
    },
    {
     "name": "stdout",
     "output_type": "stream",
     "text": [
      "S190708ap\n"
     ]
    },
    {
     "name": "stderr",
     "output_type": "stream",
     "text": [
      "/home/ethan.payne/.conda/envs/ve310/lib/python3.10/site-packages/gwpopulation-0.0.0-py3.10.egg/gwpopulation/models/mass.py:634: RuntimeWarning: overflow encountered in exp\n",
      "23it [04:00, 15.08s/it]/home/ethan.payne/.conda/envs/ve310/lib/python3.10/site-packages/gwpopulation-0.0.0-py3.10.egg/gwpopulation/models/mass.py:634: RuntimeWarning: overflow encountered in exp\n"
     ]
    },
    {
     "name": "stdout",
     "output_type": "stream",
     "text": [
      "S190725t\n"
     ]
    },
    {
     "name": "stderr",
     "output_type": "stream",
     "text": [
      "/home/ethan.payne/.conda/envs/ve310/lib/python3.10/site-packages/gwpopulation-0.0.0-py3.10.egg/gwpopulation/models/mass.py:634: RuntimeWarning: overflow encountered in exp\n",
      "24it [04:20, 16.57s/it]/home/ethan.payne/.conda/envs/ve310/lib/python3.10/site-packages/gwpopulation-0.0.0-py3.10.egg/gwpopulation/models/mass.py:634: RuntimeWarning: overflow encountered in exp\n"
     ]
    },
    {
     "name": "stdout",
     "output_type": "stream",
     "text": [
      "S190413ac\n"
     ]
    },
    {
     "name": "stderr",
     "output_type": "stream",
     "text": [
      "/home/ethan.payne/.conda/envs/ve310/lib/python3.10/site-packages/gwpopulation-0.0.0-py3.10.egg/gwpopulation/models/mass.py:634: RuntimeWarning: overflow encountered in exp\n",
      "25it [04:32, 15.40s/it]/home/ethan.payne/.conda/envs/ve310/lib/python3.10/site-packages/gwpopulation-0.0.0-py3.10.egg/gwpopulation/models/mass.py:634: RuntimeWarning: overflow encountered in exp\n"
     ]
    },
    {
     "name": "stdout",
     "output_type": "stream",
     "text": [
      "S190910s\n"
     ]
    },
    {
     "name": "stderr",
     "output_type": "stream",
     "text": [
      "/home/ethan.payne/.conda/envs/ve310/lib/python3.10/site-packages/gwpopulation-0.0.0-py3.10.egg/gwpopulation/models/mass.py:634: RuntimeWarning: overflow encountered in exp\n",
      "26it [04:45, 14.61s/it]/home/ethan.payne/.conda/envs/ve310/lib/python3.10/site-packages/gwpopulation-0.0.0-py3.10.egg/gwpopulation/models/mass.py:634: RuntimeWarning: overflow encountered in exp\n"
     ]
    },
    {
     "name": "stdout",
     "output_type": "stream",
     "text": [
      "S190707q\n"
     ]
    },
    {
     "name": "stderr",
     "output_type": "stream",
     "text": [
      "/home/ethan.payne/.conda/envs/ve310/lib/python3.10/site-packages/gwpopulation-0.0.0-py3.10.egg/gwpopulation/models/mass.py:634: RuntimeWarning: overflow encountered in exp\n",
      "27it [04:56, 13.60s/it]/home/ethan.payne/.conda/envs/ve310/lib/python3.10/site-packages/gwpopulation-0.0.0-py3.10.egg/gwpopulation/models/mass.py:634: RuntimeWarning: overflow encountered in exp\n"
     ]
    },
    {
     "name": "stdout",
     "output_type": "stream",
     "text": [
      "S190602aq\n"
     ]
    },
    {
     "name": "stderr",
     "output_type": "stream",
     "text": [
      "/home/ethan.payne/.conda/envs/ve310/lib/python3.10/site-packages/gwpopulation-0.0.0-py3.10.egg/gwpopulation/models/mass.py:634: RuntimeWarning: overflow encountered in exp\n",
      "28it [05:09, 13.25s/it]/home/ethan.payne/.conda/envs/ve310/lib/python3.10/site-packages/gwpopulation-0.0.0-py3.10.egg/gwpopulation/models/mass.py:634: RuntimeWarning: overflow encountered in exp\n"
     ]
    },
    {
     "name": "stdout",
     "output_type": "stream",
     "text": [
      "S190521r\n"
     ]
    },
    {
     "name": "stderr",
     "output_type": "stream",
     "text": [
      "/home/ethan.payne/.conda/envs/ve310/lib/python3.10/site-packages/gwpopulation-0.0.0-py3.10.egg/gwpopulation/models/mass.py:634: RuntimeWarning: overflow encountered in exp\n",
      "29it [05:20, 12.77s/it]/home/ethan.payne/.conda/envs/ve310/lib/python3.10/site-packages/gwpopulation-0.0.0-py3.10.egg/gwpopulation/models/mass.py:634: RuntimeWarning: overflow encountered in exp\n"
     ]
    },
    {
     "name": "stdout",
     "output_type": "stream",
     "text": [
      "S190925ad\n"
     ]
    },
    {
     "name": "stderr",
     "output_type": "stream",
     "text": [
      "/home/ethan.payne/.conda/envs/ve310/lib/python3.10/site-packages/gwpopulation-0.0.0-py3.10.egg/gwpopulation/models/mass.py:634: RuntimeWarning: overflow encountered in exp\n",
      "30it [05:56, 19.62s/it]/home/ethan.payne/.conda/envs/ve310/lib/python3.10/site-packages/gwpopulation-0.0.0-py3.10.egg/gwpopulation/models/mass.py:634: RuntimeWarning: overflow encountered in exp\n"
     ]
    },
    {
     "name": "stdout",
     "output_type": "stream",
     "text": [
      "S190421ar\n"
     ]
    },
    {
     "name": "stderr",
     "output_type": "stream",
     "text": [
      "/home/ethan.payne/.conda/envs/ve310/lib/python3.10/site-packages/gwpopulation-0.0.0-py3.10.egg/gwpopulation/models/mass.py:634: RuntimeWarning: overflow encountered in exp\n",
      "31it [06:19, 20.50s/it]/home/ethan.payne/.conda/envs/ve310/lib/python3.10/site-packages/gwpopulation-0.0.0-py3.10.egg/gwpopulation/models/mass.py:634: RuntimeWarning: overflow encountered in exp\n"
     ]
    },
    {
     "name": "stdout",
     "output_type": "stream",
     "text": [
      "S190924h\n"
     ]
    },
    {
     "name": "stderr",
     "output_type": "stream",
     "text": [
      "/home/ethan.payne/.conda/envs/ve310/lib/python3.10/site-packages/gwpopulation-0.0.0-py3.10.egg/gwpopulation/models/mass.py:634: RuntimeWarning: overflow encountered in exp\n",
      "32it [06:39, 20.45s/it]/home/ethan.payne/.conda/envs/ve310/lib/python3.10/site-packages/gwpopulation-0.0.0-py3.10.egg/gwpopulation/models/mass.py:634: RuntimeWarning: overflow encountered in exp\n"
     ]
    },
    {
     "name": "stdout",
     "output_type": "stream",
     "text": [
      "S190425z\n",
      "S190930s\n"
     ]
    },
    {
     "name": "stderr",
     "output_type": "stream",
     "text": [
      "/home/ethan.payne/.conda/envs/ve310/lib/python3.10/site-packages/gwpopulation-0.0.0-py3.10.egg/gwpopulation/models/mass.py:634: RuntimeWarning: overflow encountered in exp\n",
      "34it [06:53, 14.32s/it]/home/ethan.payne/.conda/envs/ve310/lib/python3.10/site-packages/gwpopulation-0.0.0-py3.10.egg/gwpopulation/models/mass.py:634: RuntimeWarning: overflow encountered in exp\n"
     ]
    },
    {
     "name": "stdout",
     "output_type": "stream",
     "text": [
      "S190620e\n"
     ]
    },
    {
     "name": "stderr",
     "output_type": "stream",
     "text": [
      "/home/ethan.payne/.conda/envs/ve310/lib/python3.10/site-packages/gwpopulation-0.0.0-py3.10.egg/gwpopulation/models/mass.py:634: RuntimeWarning: overflow encountered in exp\n",
      "35it [07:06, 13.84s/it]/home/ethan.payne/.conda/envs/ve310/lib/python3.10/site-packages/gwpopulation-0.0.0-py3.10.egg/gwpopulation/models/mass.py:634: RuntimeWarning: overflow encountered in exp\n"
     ]
    },
    {
     "name": "stdout",
     "output_type": "stream",
     "text": [
      "S190521g\n"
     ]
    },
    {
     "name": "stderr",
     "output_type": "stream",
     "text": [
      "/home/ethan.payne/.conda/envs/ve310/lib/python3.10/site-packages/gwpopulation-0.0.0-py3.10.egg/gwpopulation/models/mass.py:634: RuntimeWarning: overflow encountered in exp\n",
      "36it [07:24, 15.08s/it]/home/ethan.payne/.conda/envs/ve310/lib/python3.10/site-packages/gwpopulation-0.0.0-py3.10.egg/gwpopulation/models/mass.py:634: RuntimeWarning: overflow encountered in exp\n"
     ]
    },
    {
     "name": "stdout",
     "output_type": "stream",
     "text": [
      "S190701ah\n"
     ]
    },
    {
     "name": "stderr",
     "output_type": "stream",
     "text": [
      "/home/ethan.payne/.conda/envs/ve310/lib/python3.10/site-packages/gwpopulation-0.0.0-py3.10.egg/gwpopulation/models/mass.py:634: RuntimeWarning: overflow encountered in exp\n",
      "37it [07:36, 14.10s/it]/home/ethan.payne/.conda/envs/ve310/lib/python3.10/site-packages/gwpopulation-0.0.0-py3.10.egg/gwpopulation/models/mass.py:634: RuntimeWarning: overflow encountered in exp\n"
     ]
    },
    {
     "name": "stdout",
     "output_type": "stream",
     "text": [
      "S190527w\n"
     ]
    },
    {
     "name": "stderr",
     "output_type": "stream",
     "text": [
      "/home/ethan.payne/.conda/envs/ve310/lib/python3.10/site-packages/gwpopulation-0.0.0-py3.10.egg/gwpopulation/models/mass.py:634: RuntimeWarning: overflow encountered in exp\n",
      "38it [07:51, 14.31s/it]"
     ]
    },
    {
     "name": "stdout",
     "output_type": "stream",
     "text": [
      "S190814bv\n",
      "S190512at\n"
     ]
    },
    {
     "name": "stderr",
     "output_type": "stream",
     "text": [
      "/home/ethan.payne/.conda/envs/ve310/lib/python3.10/site-packages/gwpopulation-0.0.0-py3.10.egg/gwpopulation/models/mass.py:634: RuntimeWarning: overflow encountered in exp\n",
      "/home/ethan.payne/.conda/envs/ve310/lib/python3.10/site-packages/gwpopulation-0.0.0-py3.10.egg/gwpopulation/models/mass.py:634: RuntimeWarning: overflow encountered in exp\n",
      "40it [08:09, 12.03s/it]/home/ethan.payne/.conda/envs/ve310/lib/python3.10/site-packages/gwpopulation-0.0.0-py3.10.egg/gwpopulation/models/mass.py:634: RuntimeWarning: overflow encountered in exp\n"
     ]
    },
    {
     "name": "stdout",
     "output_type": "stream",
     "text": [
      "S190803e\n"
     ]
    },
    {
     "name": "stderr",
     "output_type": "stream",
     "text": [
      "/home/ethan.payne/.conda/envs/ve310/lib/python3.10/site-packages/gwpopulation-0.0.0-py3.10.egg/gwpopulation/models/mass.py:634: RuntimeWarning: overflow encountered in exp\n",
      "41it [08:21, 12.10s/it]/home/ethan.payne/.conda/envs/ve310/lib/python3.10/site-packages/gwpopulation-0.0.0-py3.10.egg/gwpopulation/models/mass.py:634: RuntimeWarning: overflow encountered in exp\n"
     ]
    },
    {
     "name": "stdout",
     "output_type": "stream",
     "text": [
      "S190929d\n"
     ]
    },
    {
     "name": "stderr",
     "output_type": "stream",
     "text": [
      "/home/ethan.payne/.conda/envs/ve310/lib/python3.10/site-packages/gwpopulation-0.0.0-py3.10.egg/gwpopulation/models/mass.py:634: RuntimeWarning: overflow encountered in exp\n",
      "42it [08:29, 10.87s/it]/home/ethan.payne/.conda/envs/ve310/lib/python3.10/site-packages/gwpopulation-0.0.0-py3.10.egg/gwpopulation/models/mass.py:634: RuntimeWarning: overflow encountered in exp\n"
     ]
    },
    {
     "name": "stdout",
     "output_type": "stream",
     "text": [
      "S190805bq\n"
     ]
    },
    {
     "name": "stderr",
     "output_type": "stream",
     "text": [
      "/home/ethan.payne/.conda/envs/ve310/lib/python3.10/site-packages/gwpopulation-0.0.0-py3.10.egg/gwpopulation/models/mass.py:634: RuntimeWarning: overflow encountered in exp\n",
      "43it [08:58, 15.73s/it]/home/ethan.payne/.conda/envs/ve310/lib/python3.10/site-packages/gwpopulation-0.0.0-py3.10.egg/gwpopulation/models/mass.py:634: RuntimeWarning: overflow encountered in exp\n"
     ]
    },
    {
     "name": "stdout",
     "output_type": "stream",
     "text": [
      "S190630ag\n"
     ]
    },
    {
     "name": "stderr",
     "output_type": "stream",
     "text": [
      "/home/ethan.payne/.conda/envs/ve310/lib/python3.10/site-packages/gwpopulation-0.0.0-py3.10.egg/gwpopulation/models/mass.py:634: RuntimeWarning: overflow encountered in exp\n",
      "44it [09:09, 14.61s/it]/home/ethan.payne/.conda/envs/ve310/lib/python3.10/site-packages/gwpopulation-0.0.0-py3.10.egg/gwpopulation/models/mass.py:634: RuntimeWarning: overflow encountered in exp\n"
     ]
    },
    {
     "name": "stdout",
     "output_type": "stream",
     "text": [
      "S190728q\n"
     ]
    },
    {
     "name": "stderr",
     "output_type": "stream",
     "text": [
      "/home/ethan.payne/.conda/envs/ve310/lib/python3.10/site-packages/gwpopulation-0.0.0-py3.10.egg/gwpopulation/models/mass.py:634: RuntimeWarning: overflow encountered in exp\n",
      "45it [09:18, 13.08s/it]/home/ethan.payne/.conda/envs/ve310/lib/python3.10/site-packages/gwpopulation-0.0.0-py3.10.egg/gwpopulation/models/mass.py:634: RuntimeWarning: overflow encountered in exp\n"
     ]
    },
    {
     "name": "stdout",
     "output_type": "stream",
     "text": [
      "S190517h\n"
     ]
    },
    {
     "name": "stderr",
     "output_type": "stream",
     "text": [
      "/home/ethan.payne/.conda/envs/ve310/lib/python3.10/site-packages/gwpopulation-0.0.0-py3.10.egg/gwpopulation/models/mass.py:634: RuntimeWarning: overflow encountered in exp\n",
      "46it [09:27, 11.76s/it]/home/ethan.payne/.conda/envs/ve310/lib/python3.10/site-packages/gwpopulation-0.0.0-py3.10.egg/gwpopulation/models/mass.py:634: RuntimeWarning: overflow encountered in exp\n"
     ]
    },
    {
     "name": "stdout",
     "output_type": "stream",
     "text": [
      "S190719an\n"
     ]
    },
    {
     "name": "stderr",
     "output_type": "stream",
     "text": [
      "/home/ethan.payne/.conda/envs/ve310/lib/python3.10/site-packages/gwpopulation-0.0.0-py3.10.egg/gwpopulation/models/mass.py:634: RuntimeWarning: overflow encountered in exp\n",
      "47it [09:40, 12.05s/it]/home/ethan.payne/.conda/envs/ve310/lib/python3.10/site-packages/gwpopulation-0.0.0-py3.10.egg/gwpopulation/models/mass.py:634: RuntimeWarning: overflow encountered in exp\n"
     ]
    },
    {
     "name": "stdout",
     "output_type": "stream",
     "text": [
      "S190513bm\n"
     ]
    },
    {
     "name": "stderr",
     "output_type": "stream",
     "text": [
      "/home/ethan.payne/.conda/envs/ve310/lib/python3.10/site-packages/gwpopulation-0.0.0-py3.10.egg/gwpopulation/models/mass.py:634: RuntimeWarning: overflow encountered in exp\n",
      "48it [09:53, 12.33s/it]/home/ethan.payne/.conda/envs/ve310/lib/python3.10/site-packages/gwpopulation-0.0.0-py3.10.egg/gwpopulation/models/mass.py:634: RuntimeWarning: overflow encountered in exp\n"
     ]
    },
    {
     "name": "stdout",
     "output_type": "stream",
     "text": [
      "S190720a\n"
     ]
    },
    {
     "name": "stderr",
     "output_type": "stream",
     "text": [
      "/home/ethan.payne/.conda/envs/ve310/lib/python3.10/site-packages/gwpopulation-0.0.0-py3.10.egg/gwpopulation/models/mass.py:634: RuntimeWarning: overflow encountered in exp\n",
      "49it [10:03, 11.60s/it]/home/ethan.payne/.conda/envs/ve310/lib/python3.10/site-packages/gwpopulation-0.0.0-py3.10.egg/gwpopulation/models/mass.py:634: RuntimeWarning: overflow encountered in exp\n"
     ]
    },
    {
     "name": "stdout",
     "output_type": "stream",
     "text": [
      "S190426c\n",
      "S200316bj\n"
     ]
    },
    {
     "name": "stderr",
     "output_type": "stream",
     "text": [
      "/home/ethan.payne/.conda/envs/ve310/lib/python3.10/site-packages/gwpopulation-0.0.0-py3.10.egg/gwpopulation/models/mass.py:634: RuntimeWarning: overflow encountered in exp\n",
      "51it [11:22, 24.49s/it]/home/ethan.payne/.conda/envs/ve310/lib/python3.10/site-packages/gwpopulation-0.0.0-py3.10.egg/gwpopulation/models/mass.py:634: RuntimeWarning: overflow encountered in exp\n"
     ]
    },
    {
     "name": "stdout",
     "output_type": "stream",
     "text": [
      "S191103a\n"
     ]
    },
    {
     "name": "stderr",
     "output_type": "stream",
     "text": [
      "/home/ethan.payne/.conda/envs/ve310/lib/python3.10/site-packages/gwpopulation-0.0.0-py3.10.egg/gwpopulation/models/mass.py:634: RuntimeWarning: overflow encountered in exp\n",
      "52it [11:39, 22.73s/it]/home/ethan.payne/.conda/envs/ve310/lib/python3.10/site-packages/gwpopulation-0.0.0-py3.10.egg/gwpopulation/models/mass.py:634: RuntimeWarning: overflow encountered in exp\n"
     ]
    },
    {
     "name": "stdout",
     "output_type": "stream",
     "text": [
      "S191204r\n"
     ]
    },
    {
     "name": "stderr",
     "output_type": "stream",
     "text": [
      "/home/ethan.payne/.conda/envs/ve310/lib/python3.10/site-packages/gwpopulation-0.0.0-py3.10.egg/gwpopulation/models/mass.py:634: RuntimeWarning: overflow encountered in exp\n",
      "53it [11:47, 18.85s/it]/home/ethan.payne/.conda/envs/ve310/lib/python3.10/site-packages/gwpopulation-0.0.0-py3.10.egg/gwpopulation/models/mass.py:634: RuntimeWarning: overflow encountered in exp\n"
     ]
    },
    {
     "name": "stdout",
     "output_type": "stream",
     "text": [
      "S191129u\n"
     ]
    },
    {
     "name": "stderr",
     "output_type": "stream",
     "text": [
      "/home/ethan.payne/.conda/envs/ve310/lib/python3.10/site-packages/gwpopulation-0.0.0-py3.10.egg/gwpopulation/models/mass.py:634: RuntimeWarning: overflow encountered in exp\n",
      "54it [12:00, 17.28s/it]/home/ethan.payne/.conda/envs/ve310/lib/python3.10/site-packages/gwpopulation-0.0.0-py3.10.egg/gwpopulation/models/mass.py:634: RuntimeWarning: overflow encountered in exp\n"
     ]
    },
    {
     "name": "stdout",
     "output_type": "stream",
     "text": [
      "S200112r\n"
     ]
    },
    {
     "name": "stderr",
     "output_type": "stream",
     "text": [
      "/home/ethan.payne/.conda/envs/ve310/lib/python3.10/site-packages/gwpopulation-0.0.0-py3.10.egg/gwpopulation/models/mass.py:634: RuntimeWarning: overflow encountered in exp\n",
      "55it [12:04, 13.55s/it]/home/ethan.payne/.conda/envs/ve310/lib/python3.10/site-packages/gwpopulation-0.0.0-py3.10.egg/gwpopulation/models/mass.py:634: RuntimeWarning: overflow encountered in exp\n"
     ]
    },
    {
     "name": "stdout",
     "output_type": "stream",
     "text": [
      "S191105e\n"
     ]
    },
    {
     "name": "stderr",
     "output_type": "stream",
     "text": [
      "/home/ethan.payne/.conda/envs/ve310/lib/python3.10/site-packages/gwpopulation-0.0.0-py3.10.egg/gwpopulation/models/mass.py:634: RuntimeWarning: overflow encountered in exp\n",
      "56it [12:25, 15.67s/it]/home/ethan.payne/.conda/envs/ve310/lib/python3.10/site-packages/gwpopulation-0.0.0-py3.10.egg/gwpopulation/models/mass.py:634: RuntimeWarning: overflow encountered in exp\n"
     ]
    },
    {
     "name": "stdout",
     "output_type": "stream",
     "text": [
      "S200311bg\n"
     ]
    },
    {
     "name": "stderr",
     "output_type": "stream",
     "text": [
      "/home/ethan.payne/.conda/envs/ve310/lib/python3.10/site-packages/gwpopulation-0.0.0-py3.10.egg/gwpopulation/models/mass.py:634: RuntimeWarning: overflow encountered in exp\n",
      "57it [12:38, 14.84s/it]/home/ethan.payne/.conda/envs/ve310/lib/python3.10/site-packages/gwpopulation-0.0.0-py3.10.egg/gwpopulation/models/mass.py:634: RuntimeWarning: overflow encountered in exp\n"
     ]
    },
    {
     "name": "stdout",
     "output_type": "stream",
     "text": [
      "S191222n\n"
     ]
    },
    {
     "name": "stderr",
     "output_type": "stream",
     "text": [
      "/home/ethan.payne/.conda/envs/ve310/lib/python3.10/site-packages/gwpopulation-0.0.0-py3.10.egg/gwpopulation/models/mass.py:634: RuntimeWarning: overflow encountered in exp\n",
      "58it [12:53, 14.93s/it]/home/ethan.payne/.conda/envs/ve310/lib/python3.10/site-packages/gwpopulation-0.0.0-py3.10.egg/gwpopulation/models/mass.py:634: RuntimeWarning: overflow encountered in exp\n"
     ]
    },
    {
     "name": "stdout",
     "output_type": "stream",
     "text": [
      "S200128d\n"
     ]
    },
    {
     "name": "stderr",
     "output_type": "stream",
     "text": [
      "/home/ethan.payne/.conda/envs/ve310/lib/python3.10/site-packages/gwpopulation-0.0.0-py3.10.egg/gwpopulation/models/mass.py:634: RuntimeWarning: overflow encountered in exp\n",
      "59it [13:12, 16.08s/it]/home/ethan.payne/.conda/envs/ve310/lib/python3.10/site-packages/gwpopulation-0.0.0-py3.10.egg/gwpopulation/models/mass.py:634: RuntimeWarning: overflow encountered in exp\n"
     ]
    },
    {
     "name": "stdout",
     "output_type": "stream",
     "text": [
      "S200219ac\n"
     ]
    },
    {
     "name": "stderr",
     "output_type": "stream",
     "text": [
      "/home/ethan.payne/.conda/envs/ve310/lib/python3.10/site-packages/gwpopulation-0.0.0-py3.10.egg/gwpopulation/models/mass.py:634: RuntimeWarning: overflow encountered in exp\n",
      "60it [13:27, 15.76s/it]/home/ethan.payne/.conda/envs/ve310/lib/python3.10/site-packages/gwpopulation-0.0.0-py3.10.egg/gwpopulation/models/mass.py:634: RuntimeWarning: overflow encountered in exp\n"
     ]
    },
    {
     "name": "stdout",
     "output_type": "stream",
     "text": [
      "S191215w\n"
     ]
    },
    {
     "name": "stderr",
     "output_type": "stream",
     "text": [
      "/home/ethan.payne/.conda/envs/ve310/lib/python3.10/site-packages/gwpopulation-0.0.0-py3.10.egg/gwpopulation/models/mass.py:634: RuntimeWarning: overflow encountered in exp\n",
      "61it [13:36, 13.63s/it]/home/ethan.payne/.conda/envs/ve310/lib/python3.10/site-packages/gwpopulation-0.0.0-py3.10.egg/gwpopulation/models/mass.py:634: RuntimeWarning: overflow encountered in exp\n"
     ]
    },
    {
     "name": "stdout",
     "output_type": "stream",
     "text": [
      "S200209ab\n"
     ]
    },
    {
     "name": "stderr",
     "output_type": "stream",
     "text": [
      "/home/ethan.payne/.conda/envs/ve310/lib/python3.10/site-packages/gwpopulation-0.0.0-py3.10.egg/gwpopulation/models/mass.py:634: RuntimeWarning: overflow encountered in exp\n",
      "62it [13:49, 13.49s/it]/home/ethan.payne/.conda/envs/ve310/lib/python3.10/site-packages/gwpopulation-0.0.0-py3.10.egg/gwpopulation/models/mass.py:634: RuntimeWarning: overflow encountered in exp\n"
     ]
    },
    {
     "name": "stdout",
     "output_type": "stream",
     "text": [
      "S200302c\n"
     ]
    },
    {
     "name": "stderr",
     "output_type": "stream",
     "text": [
      "/home/ethan.payne/.conda/envs/ve310/lib/python3.10/site-packages/gwpopulation-0.0.0-py3.10.egg/gwpopulation/models/mass.py:634: RuntimeWarning: overflow encountered in exp\n",
      "63it [14:05, 14.19s/it]/home/ethan.payne/.conda/envs/ve310/lib/python3.10/site-packages/gwpopulation-0.0.0-py3.10.egg/gwpopulation/models/mass.py:634: RuntimeWarning: overflow encountered in exp\n"
     ]
    },
    {
     "name": "stdout",
     "output_type": "stream",
     "text": [
      "S191127p\n"
     ]
    },
    {
     "name": "stderr",
     "output_type": "stream",
     "text": [
      "/home/ethan.payne/.conda/envs/ve310/lib/python3.10/site-packages/gwpopulation-0.0.0-py3.10.egg/gwpopulation/models/mass.py:634: RuntimeWarning: overflow encountered in exp\n",
      "64it [14:27, 16.52s/it]/home/ethan.payne/.conda/envs/ve310/lib/python3.10/site-packages/gwpopulation-0.0.0-py3.10.egg/gwpopulation/models/mass.py:634: RuntimeWarning: overflow encountered in exp\n"
     ]
    },
    {
     "name": "stdout",
     "output_type": "stream",
     "text": [
      "S200216br\n"
     ]
    },
    {
     "name": "stderr",
     "output_type": "stream",
     "text": [
      "/home/ethan.payne/.conda/envs/ve310/lib/python3.10/site-packages/gwpopulation-0.0.0-py3.10.egg/gwpopulation/models/mass.py:634: RuntimeWarning: overflow encountered in exp\n",
      "65it [14:40, 15.45s/it]/home/ethan.payne/.conda/envs/ve310/lib/python3.10/site-packages/gwpopulation-0.0.0-py3.10.egg/gwpopulation/models/mass.py:634: RuntimeWarning: overflow encountered in exp\n"
     ]
    },
    {
     "name": "stdout",
     "output_type": "stream",
     "text": [
      "S191109d\n"
     ]
    },
    {
     "name": "stderr",
     "output_type": "stream",
     "text": [
      "/home/ethan.payne/.conda/envs/ve310/lib/python3.10/site-packages/gwpopulation-0.0.0-py3.10.egg/gwpopulation/models/mass.py:634: RuntimeWarning: overflow encountered in exp\n",
      "66it [14:58, 16.29s/it]/home/ethan.payne/.conda/envs/ve310/lib/python3.10/site-packages/gwpopulation-0.0.0-py3.10.egg/gwpopulation/models/mass.py:634: RuntimeWarning: overflow encountered in exp\n"
     ]
    },
    {
     "name": "stdout",
     "output_type": "stream",
     "text": [
      "S191216ap\n"
     ]
    },
    {
     "name": "stderr",
     "output_type": "stream",
     "text": [
      "/home/ethan.payne/.conda/envs/ve310/lib/python3.10/site-packages/gwpopulation-0.0.0-py3.10.egg/gwpopulation/models/mass.py:634: RuntimeWarning: overflow encountered in exp\n",
      "67it [15:03, 12.94s/it]/home/ethan.payne/.conda/envs/ve310/lib/python3.10/site-packages/gwpopulation-0.0.0-py3.10.egg/gwpopulation/models/mass.py:634: RuntimeWarning: overflow encountered in exp\n"
     ]
    },
    {
     "name": "stdout",
     "output_type": "stream",
     "text": [
      "S200115j\n",
      "S200208q\n"
     ]
    },
    {
     "name": "stderr",
     "output_type": "stream",
     "text": [
      "/home/ethan.payne/.conda/envs/ve310/lib/python3.10/site-packages/gwpopulation-0.0.0-py3.10.egg/gwpopulation/models/mass.py:634: RuntimeWarning: overflow encountered in exp\n",
      "69it [15:17, 10.33s/it]/home/ethan.payne/.conda/envs/ve310/lib/python3.10/site-packages/gwpopulation-0.0.0-py3.10.egg/gwpopulation/models/mass.py:634: RuntimeWarning: overflow encountered in exp\n"
     ]
    },
    {
     "name": "stdout",
     "output_type": "stream",
     "text": [
      "S191230an\n"
     ]
    },
    {
     "name": "stderr",
     "output_type": "stream",
     "text": [
      "/home/ethan.payne/.conda/envs/ve310/lib/python3.10/site-packages/gwpopulation-0.0.0-py3.10.egg/gwpopulation/models/mass.py:634: RuntimeWarning: overflow encountered in exp\n",
      "70it [15:29, 10.72s/it]/home/ethan.payne/.conda/envs/ve310/lib/python3.10/site-packages/gwpopulation-0.0.0-py3.10.egg/gwpopulation/models/mass.py:634: RuntimeWarning: overflow encountered in exp\n"
     ]
    },
    {
     "name": "stdout",
     "output_type": "stream",
     "text": [
      "S200224ca\n"
     ]
    },
    {
     "name": "stderr",
     "output_type": "stream",
     "text": [
      "/home/ethan.payne/.conda/envs/ve310/lib/python3.10/site-packages/gwpopulation-0.0.0-py3.10.egg/gwpopulation/models/mass.py:634: RuntimeWarning: overflow encountered in exp\n",
      "71it [15:38, 10.20s/it]/home/ethan.payne/.conda/envs/ve310/lib/python3.10/site-packages/gwpopulation-0.0.0-py3.10.egg/gwpopulation/models/mass.py:634: RuntimeWarning: overflow encountered in exp\n"
     ]
    },
    {
     "name": "stdout",
     "output_type": "stream",
     "text": [
      "S200225q\n"
     ]
    },
    {
     "name": "stderr",
     "output_type": "stream",
     "text": [
      "/home/ethan.payne/.conda/envs/ve310/lib/python3.10/site-packages/gwpopulation-0.0.0-py3.10.egg/gwpopulation/models/mass.py:634: RuntimeWarning: overflow encountered in exp\n",
      "72it [15:49, 10.27s/it]/home/ethan.payne/.conda/envs/ve310/lib/python3.10/site-packages/gwpopulation-0.0.0-py3.10.egg/gwpopulation/models/mass.py:634: RuntimeWarning: overflow encountered in exp\n"
     ]
    },
    {
     "name": "stdout",
     "output_type": "stream",
     "text": [
      "S200105ae\n",
      "S200202ac\n"
     ]
    },
    {
     "name": "stderr",
     "output_type": "stream",
     "text": [
      "/home/ethan.payne/.conda/envs/ve310/lib/python3.10/site-packages/gwpopulation-0.0.0-py3.10.egg/gwpopulation/models/mass.py:634: RuntimeWarning: overflow encountered in exp\n",
      "74it [16:07,  9.89s/it]/home/ethan.payne/.conda/envs/ve310/lib/python3.10/site-packages/gwpopulation-0.0.0-py3.10.egg/gwpopulation/models/mass.py:634: RuntimeWarning: overflow encountered in exp\n"
     ]
    },
    {
     "name": "stdout",
     "output_type": "stream",
     "text": [
      "S200129m\n"
     ]
    },
    {
     "name": "stderr",
     "output_type": "stream",
     "text": [
      "/home/ethan.payne/.conda/envs/ve310/lib/python3.10/site-packages/gwpopulation-0.0.0-py3.10.egg/gwpopulation/models/mass.py:634: RuntimeWarning: overflow encountered in exp\n",
      "75it [16:10, 12.93s/it]\n"
     ]
    }
   ],
   "source": [
    "#Load GWTC-3 samples\n",
    "event_GMMs = pystroke.generate_O3_GMMs('/home/jacob.golomb/O3b/nov24/o1o2o3_default/init/result/o1o2o3_mass_c_iid_mag_iid_tilt_powerlaw_redshift_result.json')"
   ]
  },
  {
   "cell_type": "code",
   "execution_count": 2,
   "metadata": {},
   "outputs": [
    {
     "name": "stderr",
     "output_type": "stream",
     "text": [
      "12:40 bilby INFO    : Loading VT data from /home/reed.essick/rates+pop/o1+o2+o3-sensitivity-estimates/LIGO-T2100377-v2/o1+o2+o3_bbhpop_real+semianalytic-LIGO-T2100377-v2.hdf5.\n",
      "/home/ethan.payne/.conda/envs/ve310/lib/python3.10/site-packages/gwpopulation-0.0.0-py3.10.egg/gwpopulation/models/mass.py:634: RuntimeWarning: overflow encountered in exp\n",
      "/home/ethan.payne/.conda/envs/ve310/lib/python3.10/site-packages/gwpopulation-0.0.0-py3.10.egg/gwpopulation/models/mass.py:634: RuntimeWarning: overflow encountered in exp\n",
      "100%|██████████| 100000/100000 [00:02<00:00, 42818.79it/s]\n"
     ]
    },
    {
     "name": "stdout",
     "output_type": "stream",
     "text": [
      "41972\n",
      "[41972, 41972, 41972, 41972, 41972, 41972]\n",
      "[3.98235556e-05 3.45164070e-05 8.55851346e-05 ... 1.35733901e-06\n",
      " 5.55151793e-06 1.87059511e-05]\n"
     ]
    },
    {
     "name": "stderr",
     "output_type": "stream",
     "text": [
      "/home/ethan.payne/code_libraries/pystroke/pystroke/gw.py:279: RuntimeWarning: invalid value encountered in divide\n",
      "  np.prod(np.array([population_prior_dict[key] for key in keys_for_astro]),axis=0) /\\\n"
     ]
    }
   ],
   "source": [
    "pdet_GMM = pystroke.generate_O3_pdet_GMM(\n",
    "    '/home/reed.essick/rates+pop/o1+o2+o3-sensitivity-estimates/LIGO-T2100377-v2/o1+o2+o3_bbhpop_real+semianalytic-LIGO-T2100377-v2.hdf5',\n",
    "    '/home/jacob.golomb/O3b/nov24/o1o2o3_default/init/result/o1o2o3_mass_c_iid_mag_iid_tilt_powerlaw_redshift_result.json')                                         "
   ]
  },
  {
   "cell_type": "code",
   "execution_count": 8,
   "metadata": {},
   "outputs": [
    {
     "ename": "AttributeError",
     "evalue": "'Uniform' object has no attribute 'dimensions'",
     "output_type": "error",
     "traceback": [
      "\u001b[0;31m---------------------------------------------------------------------------\u001b[0m",
      "\u001b[0;31mAttributeError\u001b[0m                            Traceback (most recent call last)",
      "Cell \u001b[0;32mIn[8], line 1\u001b[0m\n\u001b[0;32m----> 1\u001b[0m pistroke_no_pdet \u001b[38;5;241m=\u001b[39m \u001b[43mpystroke\u001b[49m\u001b[38;5;241;43m.\u001b[39;49m\u001b[43mPiStroke\u001b[49m\u001b[43m(\u001b[49m\u001b[43mevent_GMMs\u001b[49m\u001b[43m,\u001b[49m\u001b[43m \u001b[49m\u001b[43mdist\u001b[49m\u001b[38;5;241;43m.\u001b[39;49m\u001b[43mUniform\u001b[49m\u001b[43m(\u001b[49m\u001b[38;5;241;43m5\u001b[39;49m\u001b[38;5;241;43m*\u001b[39;49m\u001b[43mjnp\u001b[49m\u001b[38;5;241;43m.\u001b[39;49m\u001b[43mones\u001b[49m\u001b[43m(\u001b[49m\u001b[38;5;241;43m1\u001b[39;49m\u001b[43m)\u001b[49m\u001b[43m,\u001b[49m\u001b[38;5;241;43m100\u001b[39;49m\u001b[38;5;241;43m*\u001b[39;49m\u001b[43mjnp\u001b[49m\u001b[38;5;241;43m.\u001b[39;49m\u001b[43mones\u001b[49m\u001b[43m(\u001b[49m\u001b[38;5;241;43m1\u001b[39;49m\u001b[43m)\u001b[49m\u001b[43m)\u001b[49m\u001b[43m)\u001b[49m\n\u001b[1;32m      2\u001b[0m \u001b[38;5;66;03m#pistroke_pdet = pystroke.PiStroke(event_GMMs, pdet_GMM)\u001b[39;00m\n",
      "File \u001b[0;32m~/code_libraries/pystroke/pystroke/pistroke.py:14\u001b[0m, in \u001b[0;36mPiStroke.__init__\u001b[0;34m(self, observation_list, detection_probability)\u001b[0m\n\u001b[1;32m     10\u001b[0m \u001b[38;5;28;01mdef\u001b[39;00m \u001b[38;5;21m__init__\u001b[39m(\u001b[38;5;28mself\u001b[39m, observation_list, detection_probability):\n\u001b[1;32m     11\u001b[0m \u001b[38;5;250m    \u001b[39m\u001b[38;5;124;03m\"\"\"\u001b[39;00m\n\u001b[1;32m     12\u001b[0m \u001b[38;5;124;03m    TODO\u001b[39;00m\n\u001b[1;32m     13\u001b[0m \u001b[38;5;124;03m    \"\"\"\u001b[39;00m\n\u001b[0;32m---> 14\u001b[0m     \u001b[38;5;28mself\u001b[39m\u001b[38;5;241m.\u001b[39mdimensions \u001b[38;5;241m=\u001b[39m \u001b[43mdetection_probability\u001b[49m\u001b[38;5;241;43m.\u001b[39;49m\u001b[43mdimensions\u001b[49m\n\u001b[1;32m     15\u001b[0m     \u001b[38;5;28mself\u001b[39m\u001b[38;5;241m.\u001b[39mobservation_list \u001b[38;5;241m=\u001b[39m observation_list\n\u001b[1;32m     16\u001b[0m     \u001b[38;5;28mself\u001b[39m\u001b[38;5;241m.\u001b[39mdetection_probability \u001b[38;5;241m=\u001b[39m detection_probability\n",
      "\u001b[0;31mAttributeError\u001b[0m: 'Uniform' object has no attribute 'dimensions'"
     ]
    }
   ],
   "source": [
    "pistroke_no_pdet = pystroke.PiStroke(event_GMMs, dist.Uniform(5*jnp.ones(1),100*jnp.ones(1)))\n",
    "#pistroke_pdet = pystroke.PiStroke(event_GMMs, pdet_GMM)"
   ]
  },
  {
   "cell_type": "code",
   "execution_count": 9,
   "metadata": {},
   "outputs": [
    {
     "name": "stdout",
     "output_type": "stream",
     "text": [
      "\n",
      " Final logL -3.4028234663852886e+38\n"
     ]
    }
   ],
   "source": [
    "_ = pistroke_pdet.gradient_descent()"
   ]
  },
  {
   "cell_type": "code",
   "execution_count": 6,
   "metadata": {},
   "outputs": [
    {
     "data": {
      "image/png": "[encoded data removed]",
      "text/plain": [
       "<Figure size 640x480 with 1 Axes>"
      ]
     },
     "metadata": {},
     "output_type": "display_data"
    }
   ],
   "source": [
    "plt.scatter(pistroke_pdet.result_array_gd[:,0], pistroke_pdet.result_array_gd[:,1])\n",
    "plt.show()"
   ]
  },
  {
   "cell_type": "code",
   "execution_count": 8,
   "metadata": {},
   "outputs": [
    {
     "data": {
      "image/png": "[encoded data removed]",
      "text/plain": [
       "<Figure size 640x480 with 1 Axes>"
      ]
     },
     "metadata": {},
     "output_type": "display_data"
    }
   ],
   "source": [
    "plt.plot(np.linspace(5,100,1000),pdet_GMM.log_prob(np.atleast_2d(np.linspace(5,100,1000)).T))\n",
    "#plt.scatter(pistroke_pdet.result_array_gd[:,0], np.exp(pistroke_pdet.result_array_gd[:,1]))\n",
    "#plt.ylim(1e-3,10)\n",
    "plt.plot(np.linspace(5,100,1000), 2.2*np.log(np.linspace(5,100,1000))-8)\n",
    "ax = plt.gca();\n",
    "ax.set_xscale('log')\n",
    "\n",
    "plt.show()\n"
   ]
  },
  {
   "cell_type": "code",
   "execution_count": 5,
   "metadata": {},
   "outputs": [
    {
     "data": {
      "image/png": "[encoded data removed]",
      "text/plain": [
       "<Figure size 640x480 with 1 Axes>"
      ]
     },
     "metadata": {},
     "output_type": "display_data"
    },
    {
     "data": {
      "image/png": "[encoded data removed]",
      "text/plain": [
       "<Figure size 640x480 with 1 Axes>"
      ]
     },
     "metadata": {},
     "output_type": "display_data"
    },
    {
     "data": {
      "image/png": "[encoded data removed]",
      "text/plain": [
       "<Figure size 640x480 with 1 Axes>"
      ]
     },
     "metadata": {},
     "output_type": "display_data"
    },
    {
     "data": {
      "image/png": "[encoded data removed]",
      "text/plain": [
       "<Figure size 640x480 with 1 Axes>"
      ]
     },
     "metadata": {},
     "output_type": "display_data"
    },
    {
     "data": {
      "image/png": "[encoded data removed]",
      "text/plain": [
       "<Figure size 640x480 with 1 Axes>"
      ]
     },
     "metadata": {},
     "output_type": "display_data"
    },
    {
     "data": {
      "image/png": "[encoded data removed]",
      "text/plain": [
       "<Figure size 640x480 with 1 Axes>"
      ]
     },
     "metadata": {},
     "output_type": "display_data"
    },
    {
     "data": {
      "image/png": "[encoded data removed]",
      "text/plain": [
       "<Figure size 640x480 with 1 Axes>"
      ]
     },
     "metadata": {},
     "output_type": "display_data"
    },
    {
     "data": {
      "image/png": "[encoded data removed]",
      "text/plain": [
       "<Figure size 640x480 with 1 Axes>"
      ]
     },
     "metadata": {},
     "output_type": "display_data"
    },
    {
     "data": {
      "image/png": "[encoded data removed]",
      "text/plain": [
       "<Figure size 640x480 with 1 Axes>"
      ]
     },
     "metadata": {},
     "output_type": "display_data"
    },
    {
     "data": {
      "image/png": "[encoded data removed]",
      "text/plain": [
       "<Figure size 640x480 with 1 Axes>"
      ]
     },
     "metadata": {},
     "output_type": "display_data"
    }
   ],
   "source": [
    "for i in range(10):\n",
    "    plt.plot(np.linspace(5,100,1000), np.exp(event_GMMs[i].log_prob(np.atleast_2d(np.linspace(5,100,1000)).T)))\n",
    "    plt.show()"
   ]
  },
  {
   "cell_type": "code",
   "execution_count": 19,
   "metadata": {},
   "outputs": [
    {
     "data": {
      "text/plain": [
       "[<pystroke.distributions.GMMDistribution at 0x7f61c9aca110>,\n",
       " <pystroke.distributions.GMMDistribution at 0x7f61c9ac9f00>,\n",
       " <pystroke.distributions.GMMDistribution at 0x7f61c9acb940>,\n",
       " <pystroke.distributions.GMMDistribution at 0x7f61c9ac9e70>,\n",
       " <pystroke.distributions.GMMDistribution at 0x7f61c9f53a00>]"
      ]
     },
     "execution_count": 19,
     "metadata": {},
     "output_type": "execute_result"
    }
   ],
   "source": [
    "event_GMMs"
   ]
  },
  {
   "cell_type": "code",
   "execution_count": null,
   "metadata": {},
   "outputs": [],
   "source": []
  }
 ],
 "metadata": {
  "kernelspec": {
   "display_name": "ve310",
   "language": "python",
   "name": "ve310"
  },
  "language_info": {
   "codemirror_mode": {
    "name": "ipython",
    "version": 3
   },
   "file_extension": ".py",
   "mimetype": "text/x-python",
   "name": "python",
   "nbconvert_exporter": "python",
   "pygments_lexer": "ipython3",
   "version": "3.10.9"
  }
 },
 "nbformat": 4,
 "nbformat_minor": 4
}
