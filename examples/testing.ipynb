{
 "cells": [
  {
   "cell_type": "code",
   "execution_count": 1,
   "id": "3aaa14b5",
   "metadata": {},
   "outputs": [
    {
     "name": "stderr",
     "output_type": "stream",
     "text": [
      "/home/ethan.payne/.conda/envs/ve310/lib/python3.10/site-packages/tqdm/auto.py:21: TqdmWarning: IProgress not found. Please update jupyter and ipywidgets. See https://ipywidgets.readthedocs.io/en/stable/user_install.html\n",
      "  from .autonotebook import tqdm as notebook_tqdm\n",
      "/local/ethan.payne/ipykernel_1387763/2116840790.py:9: DeprecationWarning: Accessing jax.config via the jax.config submodule is deprecated.\n",
      "  from jax.config import config; config.update(\"jax_enable_x64\", True)\n"
     ]
    }
   ],
   "source": [
    "import jax\n",
    "import jax.numpy as jnp\n",
    "import numpyro\n",
    "import numpyro.distributions as dist\n",
    "import numpy as np\n",
    "import scipy\n",
    "from tqdm import tqdm\n",
    "import bilby\n",
    "from jax.config import config; config.update(\"jax_enable_x64\", True)\n",
    "\n",
    "\n",
    "from sklearn import mixture\n",
    "\n",
    "from corner import corner, hist2d\n",
    "\n",
    "import jaxopt\n",
    "\n",
    "from tqdm import tqdm\n",
    "\n",
    "import matplotlib.pyplot as plt\n",
    "\n",
    "import pystroke"
   ]
  },
  {
   "cell_type": "code",
   "execution_count": 2,
   "id": "0e48f61c",
   "metadata": {},
   "outputs": [],
   "source": [
    "def uniform_generator(minimum, maximum):\n",
    "    \n",
    "    def uniform(x):\n",
    "        return (x - minimum)/(maximum - minimum)\n",
    "    \n",
    "    return uniform\n",
    "\n",
    "prior_cdfs = [uniform_generator(-10,10), uniform_generator(-10,10)]"
   ]
  },
  {
   "cell_type": "code",
   "execution_count": 3,
   "id": "4f09c11a",
   "metadata": {},
   "outputs": [
    {
     "name": "stderr",
     "output_type": "stream",
     "text": [
      "An NVIDIA GPU may be present on this machine, but a CUDA-enabled jaxlib is not installed. Falling back to cpu.\n",
      "100%|██████████| 30/30 [00:13<00:00,  2.29it/s]\n"
     ]
    }
   ],
   "source": [
    "dims = 2\n",
    "Nobs = 30\n",
    "\n",
    "# Construct random posteriors\n",
    "event_list = []\n",
    "pdet = dist.Uniform(-5*jnp.ones(dims),5*jnp.ones(dims))\n",
    "\n",
    "means = []\n",
    "covs = []\n",
    "\n",
    "for i in tqdm(range(Nobs)):\n",
    "    \n",
    "    theta = np.random.uniform(0, 2*np.pi)\n",
    "    \n",
    "    cov = np.dot(\n",
    "        np.array([[np.cos(theta), -np.sin(theta)],[np.sin(theta), np.cos(theta)]]).T,\n",
    "        np.dot(\n",
    "        np.diag(np.random.uniform(0.01,0.5,size=dims)),\n",
    "        np.array([[np.cos(theta), -np.sin(theta)],[np.sin(theta), np.cos(theta)]])\n",
    "    ))\n",
    "    \n",
    "    loc = np.random.randn(dims) + np.random.multivariate_normal(np.zeros(dims), cov)\n",
    "    \n",
    "    means.append(loc)\n",
    "    covs.append(cov)\n",
    "    \n",
    "    key = jax.random.PRNGKey(np.random.randint(0,100000))\n",
    "    dist_i_samples = dist.MultivariateNormal(jnp.array(loc), jnp.array(cov)).sample(key, sample_shape=(2000,))\n",
    "    \n",
    "    event_list.append(pystroke.GMMDistribution(dist_i_samples, prior_cdfs))"
   ]
  },
  {
   "cell_type": "code",
   "execution_count": 4,
   "id": "60b2c8af",
   "metadata": {},
   "outputs": [],
   "source": [
    "xs = np.linspace(-3,3,100)\n",
    "ys = np.linspace(-3,3,100)\n",
    "zs = np.zeros(100)\n",
    "\n",
    "for i in range(Nobs):\n",
    "    \n",
    "    plt.plot(xs, np.exp(event_list[i].log_prob(jnp.array([xs,xs]).T)))\n",
    "    \n",
    "plt.show()"
   ]
  },
  {
   "cell_type": "code",
   "execution_count": 5,
   "id": "303dcb91",
   "metadata": {},
   "outputs": [],
   "source": [
    "pistroke_test = pystroke.PiStroke(event_list, pdet)"
   ]
  },
  {
   "cell_type": "code",
   "execution_count": 6,
   "id": "de0e1c6f",
   "metadata": {},
   "outputs": [
    {
     "name": "stderr",
     "output_type": "stream",
     "text": [
      "  0%|          | 0/2 [00:00<?, ?it/s]"
     ]
    },
    {
     "name": "stdout",
     "output_type": "stream",
     "text": [
      "Random initialized position has logL -16.554621555169653\n"
     ]
    },
    {
     "ename": "",
     "evalue": "",
     "output_type": "error",
     "traceback": [
      "\u001b[1;31mThe Kernel crashed while executing code in the current cell or a previous cell. \n",
      "\u001b[1;31mPlease review the code in the cell(s) to identify a possible cause of the failure. \n",
      "\u001b[1;31mClick <a href='https://aka.ms/vscodeJupyterKernelCrash'>here</a> for more info. \n",
      "\u001b[1;31mView Jupyter <a href='command:jupyter.viewOutput'>log</a> for further details."
     ]
    }
   ],
   "source": [
    "_ = pistroke_test.gradient_descent(iterations=2, tol=np.array([1e-4,1e-2]))"
   ]
  },
  {
   "cell_type": "code",
   "execution_count": 7,
   "id": "2a04bfe9",
   "metadata": {},
   "outputs": [],
   "source": [
    "xs = np.linspace(-3,3,100)\n",
    "ys = np.linspace(-3,3,100)\n",
    "zs = np.zeros(100)\n",
    "\n",
    "for i in range(Nobs):\n",
    "    \n",
    "    plt.plot(xs, np.exp(event_list[i].log_prob(jnp.array([xs]).T))/5)\n",
    "    \n",
    "plt.scatter(pistroke_test.result_array_gd[:,0], \n",
    "            np.exp(pistroke_test.result_array_gd[:,-1])/np.sum(np.exp(pistroke_test.result_array_gd[:,-1])),\n",
    "            zorder=100, color='r', \n",
    "            alpha=np.exp(pistroke_test.result_array_gd[:,-1])/np.max(np.exp(pistroke_test.result_array_gd[:,-1])))\n",
    "\n",
    "for i in range(len(pistroke_test.result_array_gd)):\n",
    "    plt.axvline(pistroke_test.result_array_gd[i,0])\n",
    "\n",
    "plt.show()"
   ]
  },
  {
   "cell_type": "code",
   "execution_count": 8,
   "id": "d722cef5",
   "metadata": {},
   "outputs": [
    {
     "data": {
      "text/plain": [
       "(-4.0, 4.0)"
      ]
     },
     "execution_count": 8,
     "metadata": {},
     "output_type": "execute_result"
    }
   ],
   "source": [
    "fig = plt.figure(figsize=[6,6])\n",
    "\n",
    "for i in range(len(event_list)):\n",
    "    samples = event_list[i].samples\n",
    "    hist2d(samples[:,0], samples[:,1], new_fig=False, levels=[0.9], \n",
    "           smooth=0.9, bins=25, plot_density=False, plot_datapoints=False, color='k', contour_kwargs={'alpha':0.1})\n",
    "\n",
    "plt.scatter(pistroke_test.result_array_gd[:,0], pistroke_test.result_array_gd[:,1],zorder=100, color='r',\n",
    "            alpha=np.exp(pistroke_test.result_array_gd[:,-1])/np.max(np.exp(pistroke_test.result_array_gd[:,-1])))\n",
    "\n",
    "ax = plt.gca()\n",
    "ax.set_aspect('equal')\n",
    "ax.set_ylim(-4,4)\n",
    "ax.set_xlim(-4,4)"
   ]
  },
  {
   "cell_type": "code",
   "execution_count": 9,
   "id": "8b617737",
   "metadata": {},
   "outputs": [
    {
     "data": {
      "text/plain": [
       "array([1.90567645e-01, 3.24639149e-01, 1.28286415e-01, 6.21738227e-02,\n",
       "       5.93573451e-02, 5.81720398e-02, 1.67334143e-01, 5.02462344e-02,\n",
       "       4.95650779e-02, 7.02566596e-02, 4.22955201e-02, 5.14512566e-02,\n",
       "       1.35935542e-02, 1.07596809e-03, 1.38574292e-05])"
      ]
     },
     "execution_count": 9,
     "metadata": {},
     "output_type": "execute_result"
    }
   ],
   "source": [
    "np.exp(pistroke_test.result_array_gd[:,-1])"
   ]
  },
  {
   "cell_type": "code",
   "execution_count": 10,
   "id": "19c83ecf",
   "metadata": {},
   "outputs": [
    {
     "name": "stderr",
     "output_type": "stream",
     "text": [
      "13:06 bilby INFO    : Loading posteriors...\n",
      "13:06 bilby INFO    : Loaded Overall from /home/ethan.payne/projects/evidencemaximizedprior/observing_run_PE/O1O2/GW151012_GWTC-1.hdf5.\n",
      "13:06 bilby INFO    : Loaded Overall from /home/ethan.payne/projects/evidencemaximizedprior/observing_run_PE/O1O2/GW170823_GWTC-1.hdf5.\n",
      "13:06 bilby INFO    : Loaded Overall from /home/ethan.payne/projects/evidencemaximizedprior/observing_run_PE/O1O2/GW151226_GWTC-1.hdf5.\n",
      "13:06 bilby INFO    : Loaded Overall from /home/ethan.payne/projects/evidencemaximizedprior/observing_run_PE/O1O2/GW150914_GWTC-1.hdf5.\n",
      "13:06 bilby INFO    : Loaded Overall from /home/ethan.payne/projects/evidencemaximizedprior/observing_run_PE/O1O2/GW170104_GWTC-1.hdf5.\n",
      "13:06 bilby INFO    : Loaded Overall from /home/ethan.payne/projects/evidencemaximizedprior/observing_run_PE/O1O2/GW170818_GWTC-1.hdf5.\n",
      "13:06 bilby INFO    : Loaded Overall from /home/ethan.payne/projects/evidencemaximizedprior/observing_run_PE/O1O2/GW170729_GWTC-1.hdf5.\n",
      "13:06 bilby INFO    : Loaded Overall from /home/ethan.payne/projects/evidencemaximizedprior/observing_run_PE/O1O2/GW170814_GWTC-1.hdf5.\n",
      "13:06 bilby INFO    : Loaded Overall from /home/ethan.payne/projects/evidencemaximizedprior/observing_run_PE/O1O2/GW170608_GWTC-1.hdf5.\n",
      "13:06 bilby INFO    : Loaded Overall from /home/ethan.payne/projects/evidencemaximizedprior/observing_run_PE/O1O2/GW170809_GWTC-1.hdf5.\n",
      "13:06 bilby INFO    : Found 40 O3a events in standard format.\n",
      "13:06 bilby INFO    : Loaded PrecessingSpinIMRHM from /home/ethan.payne/projects/evidencemaximizedprior/observing_run_PE/O3a/S190828j.h5.\n",
      "13:06 bilby INFO    : Loaded PrecessingSpinIMRHM from /home/ethan.payne/projects/evidencemaximizedprior/observing_run_PE/O3a/S190727h.h5.\n",
      "13:06 bilby INFO    : Loaded PrecessingSpinIMRHM from /home/ethan.payne/projects/evidencemaximizedprior/observing_run_PE/O3a/S190503bf.h5.\n",
      "13:06 bilby INFO    : Loaded PrecessingSpinIMRHM from /home/ethan.payne/projects/evidencemaximizedprior/observing_run_PE/O3a/S190706ai.h5.\n",
      "13:06 bilby INFO    : Loaded PrecessingSpinIMRHM from /home/ethan.payne/projects/evidencemaximizedprior/observing_run_PE/O3a/S190412m.h5.\n",
      "13:06 bilby INFO    : Loaded PrecessingSpinIMRHM from /home/ethan.payne/projects/evidencemaximizedprior/observing_run_PE/O3a/S190731aa.h5.\n",
      "13:06 bilby INFO    : Loaded PrecessingSpinIMRHM from /home/ethan.payne/projects/evidencemaximizedprior/observing_run_PE/O3a/S190917u.h5.\n",
      "13:06 bilby INFO    : Loaded PrecessingSpinIMRHM from /home/ethan.payne/projects/evidencemaximizedprior/observing_run_PE/O3a/S190413i.h5.\n",
      "13:06 bilby INFO    : Loaded PrecessingSpinIMRHM from /home/ethan.payne/projects/evidencemaximizedprior/observing_run_PE/O3a/S190828l.h5.\n",
      "13:06 bilby INFO    : Loaded PrecessingSpinIMRHM from /home/ethan.payne/projects/evidencemaximizedprior/observing_run_PE/O3a/S190519bj.h5.\n",
      "13:06 bilby INFO    : Loaded PrecessingSpinIMRHM from /home/ethan.payne/projects/evidencemaximizedprior/observing_run_PE/O3a/S190408an.h5.\n",
      "13:06 bilby INFO    : Loaded PrecessingSpinIMRHM from /home/ethan.payne/projects/evidencemaximizedprior/observing_run_PE/O3a/S190915ak.h5.\n",
      "13:06 bilby INFO    : Loaded PrecessingSpinIMRHM from /home/ethan.payne/projects/evidencemaximizedprior/observing_run_PE/O3a/S190708ap.h5.\n",
      "13:06 bilby INFO    : Loaded PrecessingSpinIMRHM from /home/ethan.payne/projects/evidencemaximizedprior/observing_run_PE/O3a/S190725t.h5.\n",
      "13:06 bilby INFO    : Loaded PrecessingSpinIMRHM from /home/ethan.payne/projects/evidencemaximizedprior/observing_run_PE/O3a/S190413ac.h5.\n",
      "13:06 bilby INFO    : Loaded PrecessingSpinIMRHM from /home/ethan.payne/projects/evidencemaximizedprior/observing_run_PE/O3a/S190910s.h5.\n",
      "13:06 bilby INFO    : Loaded PrecessingSpinIMRHM from /home/ethan.payne/projects/evidencemaximizedprior/observing_run_PE/O3a/S190707q.h5.\n",
      "13:06 bilby INFO    : Loaded PrecessingSpinIMRHM from /home/ethan.payne/projects/evidencemaximizedprior/observing_run_PE/O3a/S190602aq.h5.\n",
      "13:06 bilby INFO    : Loaded PrecessingSpinIMRHM from /home/ethan.payne/projects/evidencemaximizedprior/observing_run_PE/O3a/S190521r.h5.\n",
      "13:06 bilby INFO    : Loaded PrecessingSpinIMRHM from /home/ethan.payne/projects/evidencemaximizedprior/observing_run_PE/O3a/S190925ad.h5.\n",
      "13:06 bilby INFO    : Loaded PrecessingSpinIMRHM from /home/ethan.payne/projects/evidencemaximizedprior/observing_run_PE/O3a/S190421ar.h5.\n",
      "13:06 bilby INFO    : Loaded PrecessingSpinIMRHM from /home/ethan.payne/projects/evidencemaximizedprior/observing_run_PE/O3a/S190924h.h5.\n",
      "13:06 bilby INFO    : Loaded AlignedSpinInspiralTidal_HS from /home/ethan.payne/projects/evidencemaximizedprior/observing_run_PE/O3a/S190425z.h5.\n",
      "13:06 bilby INFO    : Loaded PrecessingSpinIMRHM from /home/ethan.payne/projects/evidencemaximizedprior/observing_run_PE/O3a/S190930s.h5.\n",
      "13:06 bilby INFO    : Loaded PrecessingSpinIMRHM from /home/ethan.payne/projects/evidencemaximizedprior/observing_run_PE/O3a/S190620e.h5.\n",
      "13:06 bilby INFO    : Loaded PrecessingSpinIMRHM from /home/ethan.payne/projects/evidencemaximizedprior/observing_run_PE/O3a/S190521g.h5.\n",
      "13:06 bilby INFO    : Loaded PrecessingSpinIMRHM from /home/ethan.payne/projects/evidencemaximizedprior/observing_run_PE/O3a/S190701ah.h5.\n",
      "13:06 bilby INFO    : Loaded PrecessingSpinIMRHM from /home/ethan.payne/projects/evidencemaximizedprior/observing_run_PE/O3a/S190527w.h5.\n",
      "13:06 bilby INFO    : Loaded PrecessingSpinIMRHM from /home/ethan.payne/projects/evidencemaximizedprior/observing_run_PE/O3a/S190814bv.h5.\n",
      "13:06 bilby INFO    : Loaded PrecessingSpinIMRHM from /home/ethan.payne/projects/evidencemaximizedprior/observing_run_PE/O3a/S190512at.h5.\n",
      "13:06 bilby INFO    : Loaded PrecessingSpinIMRHM from /home/ethan.payne/projects/evidencemaximizedprior/observing_run_PE/O3a/S190803e.h5.\n",
      "13:06 bilby INFO    : Loaded PrecessingSpinIMRHM from /home/ethan.payne/projects/evidencemaximizedprior/observing_run_PE/O3a/S190929d.h5.\n",
      "13:06 bilby INFO    : Loaded PrecessingSpinIMRHM from /home/ethan.payne/projects/evidencemaximizedprior/observing_run_PE/O3a/S190805bq.h5.\n",
      "13:06 bilby INFO    : Loaded PrecessingSpinIMRHM from /home/ethan.payne/projects/evidencemaximizedprior/observing_run_PE/O3a/S190630ag.h5.\n",
      "13:06 bilby INFO    : Loaded PrecessingSpinIMRHM from /home/ethan.payne/projects/evidencemaximizedprior/observing_run_PE/O3a/S190728q.h5.\n",
      "13:06 bilby INFO    : Loaded PrecessingSpinIMRHM from /home/ethan.payne/projects/evidencemaximizedprior/observing_run_PE/O3a/S190517h.h5.\n",
      "13:06 bilby INFO    : Loaded PrecessingSpinIMRHM from /home/ethan.payne/projects/evidencemaximizedprior/observing_run_PE/O3a/S190719an.h5.\n",
      "13:06 bilby INFO    : Loaded PrecessingSpinIMRHM from /home/ethan.payne/projects/evidencemaximizedprior/observing_run_PE/O3a/S190513bm.h5.\n",
      "13:06 bilby INFO    : Loaded PrecessingSpinIMRHM from /home/ethan.payne/projects/evidencemaximizedprior/observing_run_PE/O3a/S190720a.h5.\n",
      "13:06 bilby INFO    : Loaded PrecessingSpinIMRHM from /home/ethan.payne/projects/evidencemaximizedprior/observing_run_PE/O3a/S190426c.h5.\n",
      "13:06 bilby INFO    : Found 25 O3b events in standard format.\n",
      "13:06 bilby INFO    : Loaded C01:Mixed from /home/ethan.payne/projects/evidencemaximizedprior/observing_run_PE/O3b/S200316bj.h5.\n",
      "13:06 bilby INFO    : Loaded C01:Mixed from /home/ethan.payne/projects/evidencemaximizedprior/observing_run_PE/O3b/S191103a.h5.\n",
      "13:06 bilby INFO    : Loaded C01:Mixed from /home/ethan.payne/projects/evidencemaximizedprior/observing_run_PE/O3b/S191204r.h5.\n",
      "13:06 bilby INFO    : Loaded C01:Mixed from /home/ethan.payne/projects/evidencemaximizedprior/observing_run_PE/O3b/S191129u.h5.\n",
      "13:06 bilby INFO    : Loaded C01:Mixed from /home/ethan.payne/projects/evidencemaximizedprior/observing_run_PE/O3b/S200112r.h5.\n",
      "13:06 bilby INFO    : Loaded C01:Mixed from /home/ethan.payne/projects/evidencemaximizedprior/observing_run_PE/O3b/S191105e.h5.\n",
      "13:06 bilby INFO    : Loaded C01:Mixed from /home/ethan.payne/projects/evidencemaximizedprior/observing_run_PE/O3b/S200311bg.h5.\n",
      "13:06 bilby INFO    : Loaded C01:Mixed from /home/ethan.payne/projects/evidencemaximizedprior/observing_run_PE/O3b/S191222n.h5.\n",
      "13:06 bilby INFO    : Loaded C01:Mixed from /home/ethan.payne/projects/evidencemaximizedprior/observing_run_PE/O3b/S200128d.h5.\n",
      "13:06 bilby INFO    : Loaded C01:Mixed from /home/ethan.payne/projects/evidencemaximizedprior/observing_run_PE/O3b/S200219ac.h5.\n",
      "13:06 bilby INFO    : Loaded C01:Mixed from /home/ethan.payne/projects/evidencemaximizedprior/observing_run_PE/O3b/S191215w.h5.\n",
      "13:06 bilby INFO    : Loaded C01:Mixed from /home/ethan.payne/projects/evidencemaximizedprior/observing_run_PE/O3b/S200209ab.h5.\n",
      "13:06 bilby INFO    : Loaded C01:Mixed from /home/ethan.payne/projects/evidencemaximizedprior/observing_run_PE/O3b/S200302c.h5.\n",
      "13:06 bilby INFO    : Loaded C01:Mixed from /home/ethan.payne/projects/evidencemaximizedprior/observing_run_PE/O3b/S191127p.h5.\n",
      "13:06 bilby INFO    : Loaded C01:Mixed from /home/ethan.payne/projects/evidencemaximizedprior/observing_run_PE/O3b/S200216br.h5.\n",
      "13:06 bilby INFO    : Loaded C01:Mixed from /home/ethan.payne/projects/evidencemaximizedprior/observing_run_PE/O3b/S191109d.h5.\n",
      "13:06 bilby INFO    : Loaded C01:Mixed from /home/ethan.payne/projects/evidencemaximizedprior/observing_run_PE/O3b/S191216ap.h5.\n",
      "13:06 bilby INFO    : Loaded C01:Mixed from /home/ethan.payne/projects/evidencemaximizedprior/observing_run_PE/O3b/S200115j.h5.\n",
      "13:06 bilby INFO    : Loaded C01:Mixed from /home/ethan.payne/projects/evidencemaximizedprior/observing_run_PE/O3b/S200208q.h5.\n",
      "13:07 bilby INFO    : Loaded C01:Mixed from /home/ethan.payne/projects/evidencemaximizedprior/observing_run_PE/O3b/S191230an.h5.\n",
      "13:07 bilby INFO    : Loaded C01:Mixed from /home/ethan.payne/projects/evidencemaximizedprior/observing_run_PE/O3b/S200224ca.h5.\n",
      "13:07 bilby INFO    : Loaded C01:Mixed from /home/ethan.payne/projects/evidencemaximizedprior/observing_run_PE/O3b/S200225q.h5.\n",
      "13:07 bilby INFO    : Loaded C01:Mixed from /home/ethan.payne/projects/evidencemaximizedprior/observing_run_PE/O3b/S200105ae.h5.\n",
      "13:07 bilby INFO    : Loaded C01:Mixed from /home/ethan.payne/projects/evidencemaximizedprior/observing_run_PE/O3b/S200202ac.h5.\n",
      "13:07 bilby INFO    : Loaded C01:Mixed from /home/ethan.payne/projects/evidencemaximizedprior/observing_run_PE/O3b/S200129m.h5.\n",
      "13:07 bilby INFO    : Using Euclidean distance prior for all events.\n",
      "13:07 bilby INFO    : Assuming flat in detector frame mass prior for /home/ethan.payne/projects/evidencemaximizedprior/observing_run_PE/O1O2/GW151012_GWTC-1.hdf5\n",
      "13:07 bilby INFO    : Assuming uniform in component spin prior for /home/ethan.payne/projects/evidencemaximizedprior/observing_run_PE/O1O2/GW151012_GWTC-1.hdf5\n",
      "13:07 bilby INFO    : Assuming flat in detector frame mass prior for /home/ethan.payne/projects/evidencemaximizedprior/observing_run_PE/O1O2/GW170823_GWTC-1.hdf5\n",
      "13:07 bilby INFO    : Assuming uniform in component spin prior for /home/ethan.payne/projects/evidencemaximizedprior/observing_run_PE/O1O2/GW170823_GWTC-1.hdf5\n",
      "13:07 bilby INFO    : Assuming flat in detector frame mass prior for /home/ethan.payne/projects/evidencemaximizedprior/observing_run_PE/O1O2/GW151226_GWTC-1.hdf5\n",
      "13:07 bilby INFO    : Assuming uniform in component spin prior for /home/ethan.payne/projects/evidencemaximizedprior/observing_run_PE/O1O2/GW151226_GWTC-1.hdf5\n",
      "13:07 bilby INFO    : Assuming flat in detector frame mass prior for /home/ethan.payne/projects/evidencemaximizedprior/observing_run_PE/O1O2/GW150914_GWTC-1.hdf5\n",
      "13:07 bilby INFO    : Assuming uniform in component spin prior for /home/ethan.payne/projects/evidencemaximizedprior/observing_run_PE/O1O2/GW150914_GWTC-1.hdf5\n",
      "13:07 bilby INFO    : Assuming flat in detector frame mass prior for /home/ethan.payne/projects/evidencemaximizedprior/observing_run_PE/O1O2/GW170104_GWTC-1.hdf5\n",
      "13:07 bilby INFO    : Assuming uniform in component spin prior for /home/ethan.payne/projects/evidencemaximizedprior/observing_run_PE/O1O2/GW170104_GWTC-1.hdf5\n",
      "13:07 bilby INFO    : Assuming flat in detector frame mass prior for /home/ethan.payne/projects/evidencemaximizedprior/observing_run_PE/O1O2/GW170818_GWTC-1.hdf5\n",
      "13:07 bilby INFO    : Assuming uniform in component spin prior for /home/ethan.payne/projects/evidencemaximizedprior/observing_run_PE/O1O2/GW170818_GWTC-1.hdf5\n",
      "13:07 bilby INFO    : Assuming flat in detector frame mass prior for /home/ethan.payne/projects/evidencemaximizedprior/observing_run_PE/O1O2/GW170729_GWTC-1.hdf5\n",
      "13:07 bilby INFO    : Assuming uniform in component spin prior for /home/ethan.payne/projects/evidencemaximizedprior/observing_run_PE/O1O2/GW170729_GWTC-1.hdf5\n",
      "13:07 bilby INFO    : Assuming flat in detector frame mass prior for /home/ethan.payne/projects/evidencemaximizedprior/observing_run_PE/O1O2/GW170814_GWTC-1.hdf5\n",
      "13:07 bilby INFO    : Assuming uniform in component spin prior for /home/ethan.payne/projects/evidencemaximizedprior/observing_run_PE/O1O2/GW170814_GWTC-1.hdf5\n",
      "13:07 bilby INFO    : Assuming flat in detector frame mass prior for /home/ethan.payne/projects/evidencemaximizedprior/observing_run_PE/O1O2/GW170608_GWTC-1.hdf5\n",
      "13:07 bilby INFO    : Assuming uniform in component spin prior for /home/ethan.payne/projects/evidencemaximizedprior/observing_run_PE/O1O2/GW170608_GWTC-1.hdf5\n",
      "13:07 bilby INFO    : Assuming flat in detector frame mass prior for /home/ethan.payne/projects/evidencemaximizedprior/observing_run_PE/O1O2/GW170809_GWTC-1.hdf5\n",
      "13:07 bilby INFO    : Assuming uniform in component spin prior for /home/ethan.payne/projects/evidencemaximizedprior/observing_run_PE/O1O2/GW170809_GWTC-1.hdf5\n",
      "13:07 bilby INFO    : Assuming flat in detector frame mass prior for /home/ethan.payne/projects/evidencemaximizedprior/observing_run_PE/O3a/S190828j.h5\n",
      "13:07 bilby INFO    : Assuming uniform in component spin prior for /home/ethan.payne/projects/evidencemaximizedprior/observing_run_PE/O3a/S190828j.h5\n",
      "13:07 bilby INFO    : Assuming flat in detector frame mass prior for /home/ethan.payne/projects/evidencemaximizedprior/observing_run_PE/O3a/S190727h.h5\n",
      "13:07 bilby INFO    : Assuming uniform in component spin prior for /home/ethan.payne/projects/evidencemaximizedprior/observing_run_PE/O3a/S190727h.h5\n",
      "13:07 bilby INFO    : Assuming flat in detector frame mass prior for /home/ethan.payne/projects/evidencemaximizedprior/observing_run_PE/O3a/S190503bf.h5\n",
      "13:07 bilby INFO    : Assuming uniform in component spin prior for /home/ethan.payne/projects/evidencemaximizedprior/observing_run_PE/O3a/S190503bf.h5\n",
      "13:07 bilby INFO    : Assuming flat in detector frame mass prior for /home/ethan.payne/projects/evidencemaximizedprior/observing_run_PE/O3a/S190706ai.h5\n",
      "13:07 bilby INFO    : Assuming uniform in component spin prior for /home/ethan.payne/projects/evidencemaximizedprior/observing_run_PE/O3a/S190706ai.h5\n",
      "13:07 bilby INFO    : Assuming flat in detector frame mass prior for /home/ethan.payne/projects/evidencemaximizedprior/observing_run_PE/O3a/S190412m.h5\n",
      "13:07 bilby INFO    : Assuming uniform in component spin prior for /home/ethan.payne/projects/evidencemaximizedprior/observing_run_PE/O3a/S190412m.h5\n",
      "13:07 bilby INFO    : Assuming flat in detector frame mass prior for /home/ethan.payne/projects/evidencemaximizedprior/observing_run_PE/O3a/S190731aa.h5\n",
      "13:07 bilby INFO    : Assuming uniform in component spin prior for /home/ethan.payne/projects/evidencemaximizedprior/observing_run_PE/O3a/S190731aa.h5\n",
      "13:07 bilby INFO    : Assuming flat in detector frame mass prior for /home/ethan.payne/projects/evidencemaximizedprior/observing_run_PE/O3a/S190917u.h5\n",
      "13:07 bilby INFO    : Assuming uniform in component spin prior for /home/ethan.payne/projects/evidencemaximizedprior/observing_run_PE/O3a/S190917u.h5\n",
      "13:07 bilby INFO    : Assuming flat in detector frame mass prior for /home/ethan.payne/projects/evidencemaximizedprior/observing_run_PE/O3a/S190413i.h5\n",
      "13:07 bilby INFO    : Assuming uniform in component spin prior for /home/ethan.payne/projects/evidencemaximizedprior/observing_run_PE/O3a/S190413i.h5\n",
      "13:07 bilby INFO    : Assuming flat in detector frame mass prior for /home/ethan.payne/projects/evidencemaximizedprior/observing_run_PE/O3a/S190828l.h5\n",
      "13:07 bilby INFO    : Assuming uniform in component spin prior for /home/ethan.payne/projects/evidencemaximizedprior/observing_run_PE/O3a/S190828l.h5\n",
      "13:07 bilby INFO    : Assuming flat in detector frame mass prior for /home/ethan.payne/projects/evidencemaximizedprior/observing_run_PE/O3a/S190519bj.h5\n",
      "13:07 bilby INFO    : Assuming uniform in component spin prior for /home/ethan.payne/projects/evidencemaximizedprior/observing_run_PE/O3a/S190519bj.h5\n",
      "13:07 bilby INFO    : Assuming flat in detector frame mass prior for /home/ethan.payne/projects/evidencemaximizedprior/observing_run_PE/O3a/S190408an.h5\n",
      "13:07 bilby INFO    : Assuming uniform in component spin prior for /home/ethan.payne/projects/evidencemaximizedprior/observing_run_PE/O3a/S190408an.h5\n",
      "13:07 bilby INFO    : Assuming flat in detector frame mass prior for /home/ethan.payne/projects/evidencemaximizedprior/observing_run_PE/O3a/S190915ak.h5\n",
      "13:07 bilby INFO    : Assuming uniform in component spin prior for /home/ethan.payne/projects/evidencemaximizedprior/observing_run_PE/O3a/S190915ak.h5\n",
      "13:07 bilby INFO    : Assuming flat in detector frame mass prior for /home/ethan.payne/projects/evidencemaximizedprior/observing_run_PE/O3a/S190708ap.h5\n",
      "13:07 bilby INFO    : Assuming uniform in component spin prior for /home/ethan.payne/projects/evidencemaximizedprior/observing_run_PE/O3a/S190708ap.h5\n",
      "13:07 bilby INFO    : Assuming flat in detector frame mass prior for /home/ethan.payne/projects/evidencemaximizedprior/observing_run_PE/O3a/S190725t.h5\n",
      "13:07 bilby INFO    : Assuming uniform in component spin prior for /home/ethan.payne/projects/evidencemaximizedprior/observing_run_PE/O3a/S190725t.h5\n",
      "13:07 bilby INFO    : Assuming flat in detector frame mass prior for /home/ethan.payne/projects/evidencemaximizedprior/observing_run_PE/O3a/S190413ac.h5\n",
      "13:07 bilby INFO    : Assuming uniform in component spin prior for /home/ethan.payne/projects/evidencemaximizedprior/observing_run_PE/O3a/S190413ac.h5\n",
      "13:07 bilby INFO    : Assuming flat in detector frame mass prior for /home/ethan.payne/projects/evidencemaximizedprior/observing_run_PE/O3a/S190910s.h5\n",
      "13:07 bilby INFO    : Assuming uniform in component spin prior for /home/ethan.payne/projects/evidencemaximizedprior/observing_run_PE/O3a/S190910s.h5\n",
      "13:07 bilby INFO    : Assuming flat in detector frame mass prior for /home/ethan.payne/projects/evidencemaximizedprior/observing_run_PE/O3a/S190707q.h5\n",
      "13:07 bilby INFO    : Assuming uniform in component spin prior for /home/ethan.payne/projects/evidencemaximizedprior/observing_run_PE/O3a/S190707q.h5\n",
      "13:07 bilby INFO    : Assuming flat in detector frame mass prior for /home/ethan.payne/projects/evidencemaximizedprior/observing_run_PE/O3a/S190602aq.h5\n",
      "13:07 bilby INFO    : Assuming uniform in component spin prior for /home/ethan.payne/projects/evidencemaximizedprior/observing_run_PE/O3a/S190602aq.h5\n",
      "13:07 bilby INFO    : Assuming flat in detector frame mass prior for /home/ethan.payne/projects/evidencemaximizedprior/observing_run_PE/O3a/S190521r.h5\n",
      "13:07 bilby INFO    : Assuming uniform in component spin prior for /home/ethan.payne/projects/evidencemaximizedprior/observing_run_PE/O3a/S190521r.h5\n",
      "13:07 bilby INFO    : Assuming flat in detector frame mass prior for /home/ethan.payne/projects/evidencemaximizedprior/observing_run_PE/O3a/S190925ad.h5\n",
      "13:07 bilby INFO    : Assuming uniform in component spin prior for /home/ethan.payne/projects/evidencemaximizedprior/observing_run_PE/O3a/S190925ad.h5\n",
      "13:07 bilby INFO    : Assuming flat in detector frame mass prior for /home/ethan.payne/projects/evidencemaximizedprior/observing_run_PE/O3a/S190421ar.h5\n",
      "13:07 bilby INFO    : Assuming uniform in component spin prior for /home/ethan.payne/projects/evidencemaximizedprior/observing_run_PE/O3a/S190421ar.h5\n",
      "13:07 bilby INFO    : Assuming flat in detector frame mass prior for /home/ethan.payne/projects/evidencemaximizedprior/observing_run_PE/O3a/S190924h.h5\n",
      "13:07 bilby INFO    : Assuming uniform in component spin prior for /home/ethan.payne/projects/evidencemaximizedprior/observing_run_PE/O3a/S190924h.h5\n",
      "13:07 bilby INFO    : Assuming flat in detector frame mass prior for /home/ethan.payne/projects/evidencemaximizedprior/observing_run_PE/O3a/S190425z.h5\n",
      "13:07 bilby INFO    : Assuming uniform in component spin prior for /home/ethan.payne/projects/evidencemaximizedprior/observing_run_PE/O3a/S190425z.h5\n",
      "13:07 bilby INFO    : Assuming flat in detector frame mass prior for /home/ethan.payne/projects/evidencemaximizedprior/observing_run_PE/O3a/S190930s.h5\n",
      "13:07 bilby INFO    : Assuming uniform in component spin prior for /home/ethan.payne/projects/evidencemaximizedprior/observing_run_PE/O3a/S190930s.h5\n",
      "13:07 bilby INFO    : Assuming flat in detector frame mass prior for /home/ethan.payne/projects/evidencemaximizedprior/observing_run_PE/O3a/S190620e.h5\n",
      "13:07 bilby INFO    : Assuming uniform in component spin prior for /home/ethan.payne/projects/evidencemaximizedprior/observing_run_PE/O3a/S190620e.h5\n",
      "13:07 bilby INFO    : Assuming flat in detector frame mass prior for /home/ethan.payne/projects/evidencemaximizedprior/observing_run_PE/O3a/S190521g.h5\n",
      "13:07 bilby INFO    : Assuming uniform in component spin prior for /home/ethan.payne/projects/evidencemaximizedprior/observing_run_PE/O3a/S190521g.h5\n",
      "13:07 bilby INFO    : Assuming flat in detector frame mass prior for /home/ethan.payne/projects/evidencemaximizedprior/observing_run_PE/O3a/S190701ah.h5\n",
      "13:07 bilby INFO    : Assuming uniform in component spin prior for /home/ethan.payne/projects/evidencemaximizedprior/observing_run_PE/O3a/S190701ah.h5\n",
      "13:07 bilby INFO    : Assuming flat in detector frame mass prior for /home/ethan.payne/projects/evidencemaximizedprior/observing_run_PE/O3a/S190527w.h5\n",
      "13:07 bilby INFO    : Assuming uniform in component spin prior for /home/ethan.payne/projects/evidencemaximizedprior/observing_run_PE/O3a/S190527w.h5\n",
      "13:07 bilby INFO    : Assuming flat in detector frame mass prior for /home/ethan.payne/projects/evidencemaximizedprior/observing_run_PE/O3a/S190814bv.h5\n",
      "13:07 bilby INFO    : Assuming uniform in component spin prior for /home/ethan.payne/projects/evidencemaximizedprior/observing_run_PE/O3a/S190814bv.h5\n",
      "13:07 bilby INFO    : Assuming flat in detector frame mass prior for /home/ethan.payne/projects/evidencemaximizedprior/observing_run_PE/O3a/S190512at.h5\n",
      "13:07 bilby INFO    : Assuming uniform in component spin prior for /home/ethan.payne/projects/evidencemaximizedprior/observing_run_PE/O3a/S190512at.h5\n",
      "13:07 bilby INFO    : Assuming flat in detector frame mass prior for /home/ethan.payne/projects/evidencemaximizedprior/observing_run_PE/O3a/S190803e.h5\n",
      "13:07 bilby INFO    : Assuming uniform in component spin prior for /home/ethan.payne/projects/evidencemaximizedprior/observing_run_PE/O3a/S190803e.h5\n",
      "13:07 bilby INFO    : Assuming flat in detector frame mass prior for /home/ethan.payne/projects/evidencemaximizedprior/observing_run_PE/O3a/S190929d.h5\n",
      "13:07 bilby INFO    : Assuming uniform in component spin prior for /home/ethan.payne/projects/evidencemaximizedprior/observing_run_PE/O3a/S190929d.h5\n",
      "13:07 bilby INFO    : Assuming flat in detector frame mass prior for /home/ethan.payne/projects/evidencemaximizedprior/observing_run_PE/O3a/S190805bq.h5\n",
      "13:07 bilby INFO    : Assuming uniform in component spin prior for /home/ethan.payne/projects/evidencemaximizedprior/observing_run_PE/O3a/S190805bq.h5\n",
      "13:07 bilby INFO    : Assuming flat in detector frame mass prior for /home/ethan.payne/projects/evidencemaximizedprior/observing_run_PE/O3a/S190630ag.h5\n",
      "13:07 bilby INFO    : Assuming uniform in component spin prior for /home/ethan.payne/projects/evidencemaximizedprior/observing_run_PE/O3a/S190630ag.h5\n",
      "13:07 bilby INFO    : Assuming flat in detector frame mass prior for /home/ethan.payne/projects/evidencemaximizedprior/observing_run_PE/O3a/S190728q.h5\n",
      "13:07 bilby INFO    : Assuming uniform in component spin prior for /home/ethan.payne/projects/evidencemaximizedprior/observing_run_PE/O3a/S190728q.h5\n",
      "13:07 bilby INFO    : Assuming flat in detector frame mass prior for /home/ethan.payne/projects/evidencemaximizedprior/observing_run_PE/O3a/S190517h.h5\n",
      "13:07 bilby INFO    : Assuming uniform in component spin prior for /home/ethan.payne/projects/evidencemaximizedprior/observing_run_PE/O3a/S190517h.h5\n",
      "13:07 bilby INFO    : Assuming flat in detector frame mass prior for /home/ethan.payne/projects/evidencemaximizedprior/observing_run_PE/O3a/S190719an.h5\n",
      "13:07 bilby INFO    : Assuming uniform in component spin prior for /home/ethan.payne/projects/evidencemaximizedprior/observing_run_PE/O3a/S190719an.h5\n",
      "13:07 bilby INFO    : Assuming flat in detector frame mass prior for /home/ethan.payne/projects/evidencemaximizedprior/observing_run_PE/O3a/S190513bm.h5\n",
      "13:07 bilby INFO    : Assuming uniform in component spin prior for /home/ethan.payne/projects/evidencemaximizedprior/observing_run_PE/O3a/S190513bm.h5\n",
      "13:07 bilby INFO    : Assuming flat in detector frame mass prior for /home/ethan.payne/projects/evidencemaximizedprior/observing_run_PE/O3a/S190720a.h5\n",
      "13:07 bilby INFO    : Assuming uniform in component spin prior for /home/ethan.payne/projects/evidencemaximizedprior/observing_run_PE/O3a/S190720a.h5\n",
      "13:07 bilby INFO    : Assuming flat in detector frame mass prior for /home/ethan.payne/projects/evidencemaximizedprior/observing_run_PE/O3a/S190426c.h5\n",
      "13:07 bilby INFO    : Assuming uniform in component spin prior for /home/ethan.payne/projects/evidencemaximizedprior/observing_run_PE/O3a/S190426c.h5\n",
      "13:07 bilby INFO    : Assuming flat in detector frame mass prior for /home/ethan.payne/projects/evidencemaximizedprior/observing_run_PE/O3b/S200316bj.h5\n",
      "13:07 bilby INFO    : Assuming uniform in component spin prior for /home/ethan.payne/projects/evidencemaximizedprior/observing_run_PE/O3b/S200316bj.h5\n",
      "13:07 bilby INFO    : Assuming flat in detector frame mass prior for /home/ethan.payne/projects/evidencemaximizedprior/observing_run_PE/O3b/S191103a.h5\n",
      "13:07 bilby INFO    : Assuming uniform in component spin prior for /home/ethan.payne/projects/evidencemaximizedprior/observing_run_PE/O3b/S191103a.h5\n",
      "13:07 bilby INFO    : Assuming flat in detector frame mass prior for /home/ethan.payne/projects/evidencemaximizedprior/observing_run_PE/O3b/S191204r.h5\n",
      "13:07 bilby INFO    : Assuming uniform in component spin prior for /home/ethan.payne/projects/evidencemaximizedprior/observing_run_PE/O3b/S191204r.h5\n",
      "13:07 bilby INFO    : Assuming flat in detector frame mass prior for /home/ethan.payne/projects/evidencemaximizedprior/observing_run_PE/O3b/S191129u.h5\n",
      "13:07 bilby INFO    : Assuming uniform in component spin prior for /home/ethan.payne/projects/evidencemaximizedprior/observing_run_PE/O3b/S191129u.h5\n",
      "13:07 bilby INFO    : Assuming flat in detector frame mass prior for /home/ethan.payne/projects/evidencemaximizedprior/observing_run_PE/O3b/S200112r.h5\n",
      "13:07 bilby INFO    : Assuming uniform in component spin prior for /home/ethan.payne/projects/evidencemaximizedprior/observing_run_PE/O3b/S200112r.h5\n",
      "13:07 bilby INFO    : Assuming flat in detector frame mass prior for /home/ethan.payne/projects/evidencemaximizedprior/observing_run_PE/O3b/S191105e.h5\n",
      "13:07 bilby INFO    : Assuming uniform in component spin prior for /home/ethan.payne/projects/evidencemaximizedprior/observing_run_PE/O3b/S191105e.h5\n",
      "13:07 bilby INFO    : Assuming flat in detector frame mass prior for /home/ethan.payne/projects/evidencemaximizedprior/observing_run_PE/O3b/S200311bg.h5\n",
      "13:07 bilby INFO    : Assuming uniform in component spin prior for /home/ethan.payne/projects/evidencemaximizedprior/observing_run_PE/O3b/S200311bg.h5\n",
      "13:07 bilby INFO    : Assuming flat in detector frame mass prior for /home/ethan.payne/projects/evidencemaximizedprior/observing_run_PE/O3b/S191222n.h5\n",
      "13:07 bilby INFO    : Assuming uniform in component spin prior for /home/ethan.payne/projects/evidencemaximizedprior/observing_run_PE/O3b/S191222n.h5\n",
      "13:07 bilby INFO    : Assuming flat in detector frame mass prior for /home/ethan.payne/projects/evidencemaximizedprior/observing_run_PE/O3b/S200128d.h5\n",
      "13:07 bilby INFO    : Assuming uniform in component spin prior for /home/ethan.payne/projects/evidencemaximizedprior/observing_run_PE/O3b/S200128d.h5\n",
      "13:07 bilby INFO    : Assuming flat in detector frame mass prior for /home/ethan.payne/projects/evidencemaximizedprior/observing_run_PE/O3b/S200219ac.h5\n",
      "13:07 bilby INFO    : Assuming uniform in component spin prior for /home/ethan.payne/projects/evidencemaximizedprior/observing_run_PE/O3b/S200219ac.h5\n",
      "13:07 bilby INFO    : Assuming flat in detector frame mass prior for /home/ethan.payne/projects/evidencemaximizedprior/observing_run_PE/O3b/S191215w.h5\n",
      "13:07 bilby INFO    : Assuming uniform in component spin prior for /home/ethan.payne/projects/evidencemaximizedprior/observing_run_PE/O3b/S191215w.h5\n",
      "13:07 bilby INFO    : Assuming flat in detector frame mass prior for /home/ethan.payne/projects/evidencemaximizedprior/observing_run_PE/O3b/S200209ab.h5\n",
      "13:07 bilby INFO    : Assuming uniform in component spin prior for /home/ethan.payne/projects/evidencemaximizedprior/observing_run_PE/O3b/S200209ab.h5\n",
      "13:07 bilby INFO    : Assuming flat in detector frame mass prior for /home/ethan.payne/projects/evidencemaximizedprior/observing_run_PE/O3b/S200302c.h5\n",
      "13:07 bilby INFO    : Assuming uniform in component spin prior for /home/ethan.payne/projects/evidencemaximizedprior/observing_run_PE/O3b/S200302c.h5\n",
      "13:07 bilby INFO    : Assuming flat in detector frame mass prior for /home/ethan.payne/projects/evidencemaximizedprior/observing_run_PE/O3b/S191127p.h5\n",
      "13:07 bilby INFO    : Assuming uniform in component spin prior for /home/ethan.payne/projects/evidencemaximizedprior/observing_run_PE/O3b/S191127p.h5\n",
      "13:07 bilby INFO    : Assuming flat in detector frame mass prior for /home/ethan.payne/projects/evidencemaximizedprior/observing_run_PE/O3b/S200216br.h5\n",
      "13:07 bilby INFO    : Assuming uniform in component spin prior for /home/ethan.payne/projects/evidencemaximizedprior/observing_run_PE/O3b/S200216br.h5\n",
      "13:07 bilby INFO    : Assuming flat in detector frame mass prior for /home/ethan.payne/projects/evidencemaximizedprior/observing_run_PE/O3b/S191109d.h5\n",
      "13:07 bilby INFO    : Assuming uniform in component spin prior for /home/ethan.payne/projects/evidencemaximizedprior/observing_run_PE/O3b/S191109d.h5\n",
      "13:07 bilby INFO    : Assuming flat in detector frame mass prior for /home/ethan.payne/projects/evidencemaximizedprior/observing_run_PE/O3b/S191216ap.h5\n",
      "13:07 bilby INFO    : Assuming uniform in component spin prior for /home/ethan.payne/projects/evidencemaximizedprior/observing_run_PE/O3b/S191216ap.h5\n",
      "13:07 bilby INFO    : Assuming flat in detector frame mass prior for /home/ethan.payne/projects/evidencemaximizedprior/observing_run_PE/O3b/S200115j.h5\n",
      "13:07 bilby INFO    : Assuming uniform in component spin prior for /home/ethan.payne/projects/evidencemaximizedprior/observing_run_PE/O3b/S200115j.h5\n",
      "13:07 bilby INFO    : Assuming flat in detector frame mass prior for /home/ethan.payne/projects/evidencemaximizedprior/observing_run_PE/O3b/S200208q.h5\n",
      "13:07 bilby INFO    : Assuming uniform in component spin prior for /home/ethan.payne/projects/evidencemaximizedprior/observing_run_PE/O3b/S200208q.h5\n",
      "13:07 bilby INFO    : Assuming flat in detector frame mass prior for /home/ethan.payne/projects/evidencemaximizedprior/observing_run_PE/O3b/S191230an.h5\n",
      "13:07 bilby INFO    : Assuming uniform in component spin prior for /home/ethan.payne/projects/evidencemaximizedprior/observing_run_PE/O3b/S191230an.h5\n",
      "13:07 bilby INFO    : Assuming flat in detector frame mass prior for /home/ethan.payne/projects/evidencemaximizedprior/observing_run_PE/O3b/S200224ca.h5\n",
      "13:07 bilby INFO    : Assuming uniform in component spin prior for /home/ethan.payne/projects/evidencemaximizedprior/observing_run_PE/O3b/S200224ca.h5\n",
      "13:07 bilby INFO    : Assuming flat in detector frame mass prior for /home/ethan.payne/projects/evidencemaximizedprior/observing_run_PE/O3b/S200225q.h5\n",
      "13:07 bilby INFO    : Assuming uniform in component spin prior for /home/ethan.payne/projects/evidencemaximizedprior/observing_run_PE/O3b/S200225q.h5\n",
      "13:07 bilby INFO    : Assuming flat in detector frame mass prior for /home/ethan.payne/projects/evidencemaximizedprior/observing_run_PE/O3b/S200105ae.h5\n",
      "13:07 bilby INFO    : Assuming uniform in component spin prior for /home/ethan.payne/projects/evidencemaximizedprior/observing_run_PE/O3b/S200105ae.h5\n",
      "13:07 bilby INFO    : Assuming flat in detector frame mass prior for /home/ethan.payne/projects/evidencemaximizedprior/observing_run_PE/O3b/S200202ac.h5\n",
      "13:07 bilby INFO    : Assuming uniform in component spin prior for /home/ethan.payne/projects/evidencemaximizedprior/observing_run_PE/O3b/S200202ac.h5\n",
      "13:07 bilby INFO    : Assuming flat in detector frame mass prior for /home/ethan.payne/projects/evidencemaximizedprior/observing_run_PE/O3b/S200129m.h5\n",
      "13:07 bilby INFO    : Assuming uniform in component spin prior for /home/ethan.payne/projects/evidencemaximizedprior/observing_run_PE/O3b/S200129m.h5\n",
      "13:07 bilby INFO    : Loaded 75 posteriors.\n",
      "  0%|          | 0/75 [00:00<?, ?it/s]/home/ethan.payne/code_libraries/gwpopulation/gwpopulation/models/mass.py:634: RuntimeWarning: overflow encountered in exp\n",
      "  window[smoothing_region] = 1 / (xp.exp(exponent) + 1)\n",
      "  0%|          | 0/75 [00:05<?, ?it/s]\n"
     ]
    },
    {
     "ename": "ValueError",
     "evalue": "setting an array element with a sequence. The requested array has an inhomogeneous shape after 1 dimensions. The detected shape was (5,) + inhomogeneous part.",
     "output_type": "error",
     "traceback": [
      "\u001b[0;31m---------------------------------------------------------------------------\u001b[0m",
      "\u001b[0;31mValueError\u001b[0m                                Traceback (most recent call last)",
      "Cell \u001b[0;32mIn[10], line 1\u001b[0m\n\u001b[0;32m----> 1\u001b[0m \u001b[43mpystroke\u001b[49m\u001b[38;5;241;43m.\u001b[39;49m\u001b[43mgenerate_O3_GMMs\u001b[49m\u001b[43m(\u001b[49m\u001b[38;5;124;43m'\u001b[39;49m\u001b[38;5;124;43m/home/jacob.golomb/O3b/nov24/o1o2o3_default/init/result/o1o2o3_mass_c_iid_mag_iid_tilt_powerlaw_redshift_result.json\u001b[39;49m\u001b[38;5;124;43m'\u001b[39;49m\u001b[43m)\u001b[49m\n",
      "File \u001b[0;32m~/code_libraries/pystroke/pystroke/gw.py:147\u001b[0m, in \u001b[0;36mgenerate_O3_GMMs\u001b[0;34m(population_file, keys, sample_size)\u001b[0m\n\u001b[1;32m    143\u001b[0m \u001b[38;5;28;01mfor\u001b[39;00m key \u001b[38;5;129;01min\u001b[39;00m keys:\n\u001b[1;32m    144\u001b[0m     keys_for_astro\u001b[38;5;241m.\u001b[39mremove(key)\n\u001b[1;32m    146\u001b[0m weights \u001b[38;5;241m=\u001b[39m \\\n\u001b[0;32m--> 147\u001b[0m     np\u001b[38;5;241m.\u001b[39mprod(\u001b[43mnp\u001b[49m\u001b[38;5;241;43m.\u001b[39;49m\u001b[43marray\u001b[49m\u001b[43m(\u001b[49m\u001b[43m[\u001b[49m\u001b[43mprior_dict\u001b[49m\u001b[43m[\u001b[49m\u001b[43mkey\u001b[49m\u001b[43m]\u001b[49m\u001b[43m \u001b[49m\u001b[38;5;28;43;01mfor\u001b[39;49;00m\u001b[43m \u001b[49m\u001b[43mkey\u001b[49m\u001b[43m \u001b[49m\u001b[38;5;129;43;01min\u001b[39;49;00m\u001b[43m \u001b[49m\u001b[43mkeys_for_astro\u001b[49m\u001b[43m]\u001b[49m\u001b[43m)\u001b[49m,axis\u001b[38;5;241m=\u001b[39m\u001b[38;5;241m1\u001b[39m) \u001b[38;5;241m/\u001b[39m\\\n\u001b[1;32m    148\u001b[0m     np\u001b[38;5;241m.\u001b[39mprod(np\u001b[38;5;241m.\u001b[39marray([prior_dict[key] \u001b[38;5;28;01mfor\u001b[39;00m key \u001b[38;5;129;01min\u001b[39;00m keys_for_prior]),axis\u001b[38;5;241m=\u001b[39m\u001b[38;5;241m1\u001b[39m)\n\u001b[1;32m    150\u001b[0m samples_reweighted \u001b[38;5;241m=\u001b[39m event_posterior\u001b[38;5;241m.\u001b[39msample(\n\u001b[1;32m    151\u001b[0m     n\u001b[38;5;241m=\u001b[39msample_size, replace\u001b[38;5;241m=\u001b[39m\u001b[38;5;28;01mTrue\u001b[39;00m, weights\u001b[38;5;241m=\u001b[39mweights)\n\u001b[1;32m    153\u001b[0m \u001b[38;5;66;03m# Saving the samples\u001b[39;00m\n",
      "\u001b[0;31mValueError\u001b[0m: setting an array element with a sequence. The requested array has an inhomogeneous shape after 1 dimensions. The detected shape was (5,) + inhomogeneous part."
     ]
    }
   ],
   "source": [
    "pystroke.generate_O3_GMMs('/home/jacob.golomb/O3b/nov24/o1o2o3_default/init/result/o1o2o3_mass_c_iid_mag_iid_tilt_powerlaw_redshift_result.json')"
   ]
  },
  {
   "cell_type": "code",
   "execution_count": null,
   "id": "2a68dea4-4d7e-4c1a-ba1d-15c7471a84af",
   "metadata": {},
   "outputs": [],
   "source": [
    "\n",
    "from gwpopulation_pipe.data_collection import load_all_events"
   ]
  },
  {
   "cell_type": "code",
   "execution_count": null,
   "id": "cf1fd7a2-8690-4721-85b7-1410bf1519da",
   "metadata": {},
   "outputs": [],
   "source": [
    "load_all_events?"
   ]
  },
  {
   "cell_type": "code",
   "execution_count": null,
   "id": "2a6e6b1a-f0b3-4931-a870-c8ab05414e0c",
   "metadata": {},
   "outputs": [],
   "source": []
  }
 ],
 "metadata": {
  "kernelspec": {
   "display_name": "Python 3",
   "language": "python",
   "name": "python3"
  },
  "language_info": {
   "codemirror_mode": {
    "name": "ipython",
    "version": 3
   },
   "file_extension": ".py",
   "mimetype": "text/x-python",
   "name": "python",
   "nbconvert_exporter": "python",
   "pygments_lexer": "ipython3",
   "version": "3.9.13"
  }
 },
 "nbformat": 4,
 "nbformat_minor": 5
}
